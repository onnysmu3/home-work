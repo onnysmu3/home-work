{
 "cells": [
  {
   "cell_type": "code",
   "execution_count": 1,
   "metadata": {
    "collapsed": true
   },
   "outputs": [],
   "source": [
    "my_dna = \"ATGC\""
   ]
  },
  {
   "cell_type": "code",
   "execution_count": 30,
   "metadata": {
    "collapsed": false
   },
   "outputs": [],
   "source": [
    "my_DNA = ['A', 'C', 'T', 'GATCGATTACGTATAGTATTTGCTATCATACATATATATCGATGCGTTCAT']"
   ]
  },
  {
   "cell_type": "code",
   "execution_count": 31,
   "metadata": {
    "collapsed": false
   },
   "outputs": [
    {
     "name": "stdout",
     "output_type": "stream",
     "text": [
      "ACTGATCGATTACGTATAGTATTTGCTATCATACATATATATCGATGCGTTCAT\n"
     ]
    }
   ],
   "source": [
    "print(myDNA)"
   ]
  },
  {
   "cell_type": "code",
   "execution_count": 32,
   "metadata": {
    "collapsed": false
   },
   "outputs": [
    {
     "name": "stdout",
     "output_type": "stream",
     "text": [
      "Reverse Complement: \n",
      "A\n"
     ]
    }
   ],
   "source": [
    "def complement(myDNA):\n",
    "    complement = {'A': 'T', 'C': 'G', 'G': 'C', 'T': 'A'} \n",
    "    bases = list(myDNA) \n",
    "    for element in bases:\n",
    "        if element not in complement:\n",
    "            print(element)  \n",
    "        letters = [complement[base] for base in element] \n",
    "        return ''.join(letters)\n",
    "def reverse_complement(myDNA):\n",
    "    return complement(myDNA[::-1])\n",
    "\n",
    "print(\"Reverse Complement: \")\n",
    "print(reverse_complement(myDNA))"
   ]
  },
  {
   "cell_type": "code",
   "execution_count": 43,
   "metadata": {
    "collapsed": false
   },
   "outputs": [],
   "source": [
    "complement = {'A': 'T', 'C': 'G', 'G': 'C', 'T': 'A'}\n",
    "seq = ['A', 'C', 'T', 'G', 'A', 'T', 'C', 'G']\n",
    "\n",
    "def reverse_complement(seq):    \n",
    "    for key,value in alt_map.items():\n",
    "        seq = seq.replace(key,value)\n",
    "    print(\"Reverse Complement:\")\n",
    "    print(reverse_complement(seq))"
   ]
  },
  {
   "cell_type": "code",
   "execution_count": null,
   "metadata": {
    "collapsed": true
   },
   "outputs": [],
   "source": [
    "protein = \"vlspadktnv\"\n",
    "# replace valine with tyrosine\n",
    "print(protein.replace(\"v\", \"y\"))\n",
    "# we can replace more than one character\n",
    "print(protein.replace(\"vls\", \"ymt\"))\n",
    "# the original variable is not affected\n",
    "print(protein)"
   ]
  },
  {
   "cell_type": "code",
   "execution_count": 44,
   "metadata": {
    "collapsed": false
   },
   "outputs": [
    {
     "data": {
      "text/plain": [
       "'ACTGATCGATTACGTATAGTATTTGCTATCATACATATATATCGATGCGTTCAT'"
      ]
     },
     "execution_count": 44,
     "metadata": {},
     "output_type": "execute_result"
    }
   ],
   "source": [
    "myDNA"
   ]
  },
  {
   "cell_type": "code",
   "execution_count": 52,
   "metadata": {
    "collapsed": false
   },
   "outputs": [
    {
     "name": "stdout",
     "output_type": "stream",
     "text": [
      "TCTGTTCGTTTTCGTTTTGTTTTTGCTTTCTTTCTTTTTTTTCGTTGCGTTCTT\n"
     ]
    }
   ],
   "source": [
    "print(myDNA.replace('A', 'T'))"
   ]
  },
  {
   "cell_type": "code",
   "execution_count": 53,
   "metadata": {
    "collapsed": false
   },
   "outputs": [
    {
     "name": "stdout",
     "output_type": "stream",
     "text": [
      "AGTGATGGATTAGGTATAGTATTTGGTATGATAGATATATATGGATGGGTTGAT\n"
     ]
    }
   ],
   "source": [
    "print(myDNA.replace('C', 'G'))"
   ]
  },
  {
   "cell_type": "code",
   "execution_count": 54,
   "metadata": {
    "collapsed": false
   },
   "outputs": [
    {
     "name": "stdout",
     "output_type": "stream",
     "text": [
      "TCTGTTCGTTTTCGTTTTGTTTTTGCTTTCTTTCTTTTTTTTCGTTGCGTTCTTAGTGATGGATTAGGTATAGTATTTGGTATGATAGATATATATGGATGGGTTGAT\n"
     ]
    }
   ],
   "source": [
    "print(myDNA.replace('A', 'T') + myDNA.replace('C', 'G'))"
   ]
  },
  {
   "cell_type": "code",
   "execution_count": 56,
   "metadata": {
    "collapsed": false
   },
   "outputs": [
    {
     "name": "stdout",
     "output_type": "stream",
     "text": [
      "ACTGATCGATTACGTATAGTATTTGCTATCATACATATATATCGATGCGTTCAT\n",
      "TCTGTTCGTTTTCGTTTTGTTTTTGCTTTCTTTCTTTTTTTTCGTTGCGTTCTT\n",
      "ACAGAACGAAAACGAAAAGAAAAAGCAAACAAACAAAAAAAACGAAGCGAACAA\n",
      "AGAGAAGGAAAAGGAAAAGAAAAAGGAAAGAAAGAAAAAAAAGGAAGGGAAGAA\n",
      "ACACAACCAAAACCAAAACAAAAACCAAACAAACAAAAAAAACCAACCCAACAA\n"
     ]
    }
   ],
   "source": [
    "myDNA = \"ACTGATCGATTACGTATAGTATTTGCTATCATACATATATATCGATGCGTTCAT\"\n",
    "print(myDNA)\n",
    "replacement1 = myDNA.replace(\"A\", \"T\")\n",
    "print(replacement1)\n",
    "replacement2 = replacement1.replace(\"T\", \"A\")\n",
    "print(replacement2)\n",
    "replacement3 = replacement2.replace(\"C\", \"G\")\n",
    "print(replacement3)\n",
    "replacement4 = replacement3.replace(\"G\", \"C\")\n",
    "print(replacement4)"
   ]
  },
  {
   "cell_type": "code",
   "execution_count": 57,
   "metadata": {
    "collapsed": false
   },
   "outputs": [
    {
     "name": "stdout",
     "output_type": "stream",
     "text": [
      "ACTGATCGATTACGTATAGTATTTGCTATCATACATATATATCGATGCGTTCAT\n",
      "tCTGtTCGtTTtCGTtTtGTtTTTGCTtTCtTtCtTtTtTtTCGtTGCGTTCtT\n",
      "tCaGtaCGtaatCGatatGataaaGCataCtatCtatatataCGtaGCGaaCta\n",
      "tgaGtagGtaatgGatatGataaaGgatagtatgtatatatagGtaGgGaagta\n",
      "tgactagctaatgcatatcataaacgatagtatgtatatatagctacgcaagta\n",
      "TGACTAGCTAATGCATATCATAAACGATAGTATGTATATATAGCTACGCAAGTA\n"
     ]
    }
   ],
   "source": [
    "print(myDNA)\n",
    "replacement1 = myDNA.replace(\"A\", \"t\")\n",
    "print(replacement1)\n",
    "replacement2 = replacement1.replace(\"T\", \"a\")\n",
    "print(replacement2)\n",
    "replacement3 = replacement2.replace(\"C\", \"g\")\n",
    "print(replacement3)\n",
    "replacement4 = replacement3.replace(\"G\", \"c\")\n",
    "print(replacement4)\n",
    "print(replacement4.upper())"
   ]
  },
  {
   "cell_type": "code",
   "execution_count": 60,
   "metadata": {
    "collapsed": false
   },
   "outputs": [
    {
     "name": "stdout",
     "output_type": "stream",
     "text": [
      "Length fragment one is 22\n",
      "Length fragment two is 33\n"
     ]
    }
   ],
   "source": [
    "myDNA2 = \"ACTGATCGATTACGTATAGTAGAATTCTATCATACATATATATCGATGCGTTCAT\"\n",
    "# fisrt, find manually the EcoRI restriction enzym, then mark and count how many nucleotides before and after the enzym\n",
    "# write a program which will calculate the size of the two fragments separated by the EcoRI restriction enzym indicated by \"G*AA\n",
    "length_frag1 = myDNA2.find(\"GAATTC\") + 1\n",
    "length_frag2 = len(myDNA2) - length_frag1\n",
    "print(\"Length fragment one is \" + str(length_frag1))\n",
    "print(\"Length fragment two is \" + str(length_frag2))"
   ]
  },
  {
   "cell_type": "code",
   "execution_count": 68,
   "metadata": {
    "collapsed": false
   },
   "outputs": [],
   "source": [
    "myDNA3 = \"ATCGATCGATCGATCGACTGACTAGTCATAGCTATGCATGTAGCTACTCGATCGATCGATCGATCGATCGATCGATCGATCGATCATGCTATCATCGATCGATATCGATGCATCGACTACTAT\"\n",
    "# Exon1 = nucletide 0 - 63 (from the start of the sequence to the sixty-third character)\n",
    "# intron = nucleotide 64 -90\n",
    "# Exon2 = nucleotide 91 - end (from the ninety-first character to the end of the sequence)\n",
    "# Command: Write a program that will print just the coding regions of the DNA sequence!!"
   ]
  },
  {
   "cell_type": "code",
   "execution_count": 69,
   "metadata": {
    "collapsed": false
   },
   "outputs": [
    {
     "name": "stdout",
     "output_type": "stream",
     "text": [
      "ATCGATCGATCGATCGACTGACTAGTCATAGCTATGCATGTAGCTACTCGATCGATCGATCGATCGATCGATCGATCGATCGATCATGCTATCATCGATCGATATCGATGCATCGACTACTAT\n"
     ]
    }
   ],
   "source": [
    "print(myDNA3)"
   ]
  },
  {
   "cell_type": "code",
   "execution_count": 70,
   "metadata": {
    "collapsed": false
   },
   "outputs": [
    {
     "name": "stdout",
     "output_type": "stream",
     "text": [
      "ATCGA\n"
     ]
    }
   ],
   "source": [
    "Exon1 = myDNA3[0:5]\n",
    "print(Exon1)"
   ]
  },
  {
   "cell_type": "code",
   "execution_count": 81,
   "metadata": {
    "collapsed": false
   },
   "outputs": [
    {
     "name": "stdout",
     "output_type": "stream",
     "text": [
      "myDNA is ATCGATCGATCGATCGACTGACTAGTCATAGCTATGCATGTAGCTACTCGATCGATCGATCGATCGATCGATCGATCGATCGATCATGCTATCATCGATCGATATCGATGCATCGACTACTAT\n",
      "Exon one is ATCGATCGATCGATCGACTGACTAGTCATAGCTATGCATGTAGCTACTCGATCGATCGATCGAT\n",
      "Exon two is TCATCGATCGATATCGATGCATCGACTACTAT\n",
      "the Coding Region is ATCGATCGATCGATCGACTGACTAGTCATAGCTATGCATGTAGCTACTCGATCGATCGATCGATTCATCGATCGATATCGATGCATCGACTACTAT\n"
     ]
    }
   ],
   "source": [
    "print(\"myDNA is \" + myDNA3)\n",
    "Exon1 = myDNA3[0:64]\n",
    "print(\"Exon one is \" + Exon1)\n",
    "Exon2 = myDNA3[91:10000]\n",
    "print(\"Exon two is \" + Exon2)\n",
    "Coding_Region = Exon1 + Exon2\n",
    "print(\"the Coding Region is \" + Coding_Region)"
   ]
  },
  {
   "cell_type": "code",
   "execution_count": 79,
   "metadata": {
    "collapsed": false
   },
   "outputs": [
    {
     "name": "stdout",
     "output_type": "stream",
     "text": [
      "ATCGATCGATCGATCGACTGACTAGTCATAGCTATGCATGTAGCTACTCGATCGATCGATCGATCGATCGATCGATCGATCGATCATGCTATCATCGATCGATATCGATGCATCGACTACTAT\n",
      "ATCGATCGATCGATCGACTGACTAGTCATAGCTATGCATGTAGCTACTCGATCGATCGATCGATTCATCGATCGATATCGATGCATCGACTACTAT\n",
      "the Percentage of DNA Sequence is 78.04878048780488 %\n"
     ]
    }
   ],
   "source": [
    "# Using the data from part one, write a program that will calculate what percentage of the DNA sequence is coding.\n",
    "print(myDNA3)\n",
    "print(Coding_Region)\n",
    "total_DNAlength = len(myDNA3)\n",
    "length_DNACoding = len(Coding_Region)\n",
    "percentage_DNASequence = (length_DNACoding / total_DNAlength)*100\n",
    "print(\"the Percentage of DNA Sequence is \" + str(percentage_DNASequence) + \" \"\"%\")"
   ]
  },
  {
   "cell_type": "code",
   "execution_count": 85,
   "metadata": {
    "collapsed": false
   },
   "outputs": [
    {
     "name": "stdout",
     "output_type": "stream",
     "text": [
      "This is the original sequence: ATCGATCGATCGATCGACTGACTAGTCATAGCTATGCATGTAGCTACTCGATCGATCGATCGATCGATCGATCGATCGATCGATCATGCTATCATCGATCGATATCGATGCATCGACTACTAT\n",
      "the Exon one is ATCGATCGATCGATCGACTGACTAGTCATAGCTATGCATGTAGCTACTCGATCGATCGATCGAT\n",
      "the Intron is CGATCGATCGATCGATCGATCATGCTA\n",
      "the Exon2 is TCATCGATCGATATCGATGCATCGACTACTAT\n",
      "This is the answer: ATCGATCGATCGATCGACTGACTAGTCATAGCTATGCATGTAGCTACTCGATCGATCGATCGATcgatcgatcgatcgatcgatcatgctaTCATCGATCGATATCGATGCATCGACTACTAT\n"
     ]
    }
   ],
   "source": [
    "# write a program: coding bases in uppercase and non-coding bases in lowercase\n",
    "print(\"This is the original sequence: \" + myDNA3)\n",
    "print(\"the Exon one is \" + Exon1)\n",
    "Intron = myDNA3[64:91]\n",
    "print(\"the Intron is \" + Intron)\n",
    "print(\"the Exon2 is \" + Exon2)\n",
    "print(\"This is the answer: \" + Exon1 + Intron.lower() + Exon2)"
   ]
  },
  {
   "cell_type": "code",
   "execution_count": null,
   "metadata": {
    "collapsed": true
   },
   "outputs": [],
   "source": []
  }
 ],
 "metadata": {
  "anaconda-cloud": {},
  "kernelspec": {
   "display_name": "Python [default]",
   "language": "python",
   "name": "python3"
  },
  "language_info": {
   "codemirror_mode": {
    "name": "ipython",
    "version": 3
   },
   "file_extension": ".py",
   "mimetype": "text/x-python",
   "name": "python",
   "nbconvert_exporter": "python",
   "pygments_lexer": "ipython3",
   "version": "3.5.2"
  }
 },
 "nbformat": 4,
 "nbformat_minor": 2
}

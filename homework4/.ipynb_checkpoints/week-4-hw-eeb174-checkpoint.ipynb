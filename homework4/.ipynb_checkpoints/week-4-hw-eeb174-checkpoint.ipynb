{
 "cells": [
  {
   "cell_type": "markdown",
   "metadata": {},
   "source": [
    "# PART 1"
   ]
  },
  {
   "cell_type": "code",
   "execution_count": 1,
   "metadata": {
    "collapsed": true
   },
   "outputs": [],
   "source": [
    "my_dna = \"ATGC\""
   ]
  },
  {
   "cell_type": "code",
   "execution_count": 30,
   "metadata": {
    "collapsed": false
   },
   "outputs": [],
   "source": [
    "my_DNA = ['A', 'C', 'T', 'GATCGATTACGTATAGTATTTGCTATCATACATATATATCGATGCGTTCAT']"
   ]
  },
  {
   "cell_type": "code",
   "execution_count": 31,
   "metadata": {
    "collapsed": false
   },
   "outputs": [
    {
     "name": "stdout",
     "output_type": "stream",
     "text": [
      "ACTGATCGATTACGTATAGTATTTGCTATCATACATATATATCGATGCGTTCAT\n"
     ]
    }
   ],
   "source": [
    "print(myDNA)"
   ]
  },
  {
   "cell_type": "code",
   "execution_count": 32,
   "metadata": {
    "collapsed": false
   },
   "outputs": [
    {
     "name": "stdout",
     "output_type": "stream",
     "text": [
      "Reverse Complement: \n",
      "A\n"
     ]
    }
   ],
   "source": [
    "def complement(myDNA):\n",
    "    complement = {'A': 'T', 'C': 'G', 'G': 'C', 'T': 'A'} \n",
    "    bases = list(myDNA) \n",
    "    for element in bases:\n",
    "        if element not in complement:\n",
    "            print(element)  \n",
    "        letters = [complement[base] for base in element] \n",
    "        return ''.join(letters)\n",
    "def reverse_complement(myDNA):\n",
    "    return complement(myDNA[::-1])\n",
    "\n",
    "print(\"Reverse Complement: \")\n",
    "print(reverse_complement(myDNA))"
   ]
  },
  {
   "cell_type": "code",
   "execution_count": 43,
   "metadata": {
    "collapsed": false
   },
   "outputs": [],
   "source": [
    "complement = {'A': 'T', 'C': 'G', 'G': 'C', 'T': 'A'}\n",
    "seq = ['A', 'C', 'T', 'G', 'A', 'T', 'C', 'G']\n",
    "\n",
    "def reverse_complement(seq):    \n",
    "    for key,value in alt_map.items():\n",
    "        seq = seq.replace(key,value)\n",
    "    print(\"Reverse Complement:\")\n",
    "    print(reverse_complement(seq))"
   ]
  },
  {
   "cell_type": "code",
   "execution_count": null,
   "metadata": {
    "collapsed": true
   },
   "outputs": [],
   "source": [
    "protein = \"vlspadktnv\"\n",
    "# replace valine with tyrosine\n",
    "print(protein.replace(\"v\", \"y\"))\n",
    "# we can replace more than one character\n",
    "print(protein.replace(\"vls\", \"ymt\"))\n",
    "# the original variable is not affected\n",
    "print(protein)"
   ]
  },
  {
   "cell_type": "code",
   "execution_count": 44,
   "metadata": {
    "collapsed": false
   },
   "outputs": [
    {
     "data": {
      "text/plain": [
       "'ACTGATCGATTACGTATAGTATTTGCTATCATACATATATATCGATGCGTTCAT'"
      ]
     },
     "execution_count": 44,
     "metadata": {},
     "output_type": "execute_result"
    }
   ],
   "source": [
    "myDNA"
   ]
  },
  {
   "cell_type": "code",
   "execution_count": 52,
   "metadata": {
    "collapsed": false
   },
   "outputs": [
    {
     "name": "stdout",
     "output_type": "stream",
     "text": [
      "TCTGTTCGTTTTCGTTTTGTTTTTGCTTTCTTTCTTTTTTTTCGTTGCGTTCTT\n"
     ]
    }
   ],
   "source": [
    "print(myDNA.replace('A', 'T'))"
   ]
  },
  {
   "cell_type": "code",
   "execution_count": 53,
   "metadata": {
    "collapsed": false
   },
   "outputs": [
    {
     "name": "stdout",
     "output_type": "stream",
     "text": [
      "AGTGATGGATTAGGTATAGTATTTGGTATGATAGATATATATGGATGGGTTGAT\n"
     ]
    }
   ],
   "source": [
    "print(myDNA.replace('C', 'G'))"
   ]
  },
  {
   "cell_type": "code",
   "execution_count": 54,
   "metadata": {
    "collapsed": false
   },
   "outputs": [
    {
     "name": "stdout",
     "output_type": "stream",
     "text": [
      "TCTGTTCGTTTTCGTTTTGTTTTTGCTTTCTTTCTTTTTTTTCGTTGCGTTCTTAGTGATGGATTAGGTATAGTATTTGGTATGATAGATATATATGGATGGGTTGAT\n"
     ]
    }
   ],
   "source": [
    "print(myDNA.replace('A', 'T') + myDNA.replace('C', 'G'))"
   ]
  },
  {
   "cell_type": "code",
   "execution_count": 56,
   "metadata": {
    "collapsed": false
   },
   "outputs": [
    {
     "name": "stdout",
     "output_type": "stream",
     "text": [
      "ACTGATCGATTACGTATAGTATTTGCTATCATACATATATATCGATGCGTTCAT\n",
      "TCTGTTCGTTTTCGTTTTGTTTTTGCTTTCTTTCTTTTTTTTCGTTGCGTTCTT\n",
      "ACAGAACGAAAACGAAAAGAAAAAGCAAACAAACAAAAAAAACGAAGCGAACAA\n",
      "AGAGAAGGAAAAGGAAAAGAAAAAGGAAAGAAAGAAAAAAAAGGAAGGGAAGAA\n",
      "ACACAACCAAAACCAAAACAAAAACCAAACAAACAAAAAAAACCAACCCAACAA\n"
     ]
    }
   ],
   "source": [
    "myDNA = \"ACTGATCGATTACGTATAGTATTTGCTATCATACATATATATCGATGCGTTCAT\"\n",
    "print(myDNA)\n",
    "replacement1 = myDNA.replace(\"A\", \"T\")\n",
    "print(replacement1)\n",
    "replacement2 = replacement1.replace(\"T\", \"A\")\n",
    "print(replacement2)\n",
    "replacement3 = replacement2.replace(\"C\", \"G\")\n",
    "print(replacement3)\n",
    "replacement4 = replacement3.replace(\"G\", \"C\")\n",
    "print(replacement4)"
   ]
  },
  {
   "cell_type": "code",
   "execution_count": 57,
   "metadata": {
    "collapsed": false
   },
   "outputs": [
    {
     "name": "stdout",
     "output_type": "stream",
     "text": [
      "ACTGATCGATTACGTATAGTATTTGCTATCATACATATATATCGATGCGTTCAT\n",
      "tCTGtTCGtTTtCGTtTtGTtTTTGCTtTCtTtCtTtTtTtTCGtTGCGTTCtT\n",
      "tCaGtaCGtaatCGatatGataaaGCataCtatCtatatataCGtaGCGaaCta\n",
      "tgaGtagGtaatgGatatGataaaGgatagtatgtatatatagGtaGgGaagta\n",
      "tgactagctaatgcatatcataaacgatagtatgtatatatagctacgcaagta\n",
      "TGACTAGCTAATGCATATCATAAACGATAGTATGTATATATAGCTACGCAAGTA\n"
     ]
    }
   ],
   "source": [
    "print(myDNA)\n",
    "replacement1 = myDNA.replace(\"A\", \"t\")\n",
    "print(replacement1)\n",
    "replacement2 = replacement1.replace(\"T\", \"a\")\n",
    "print(replacement2)\n",
    "replacement3 = replacement2.replace(\"C\", \"g\")\n",
    "print(replacement3)\n",
    "replacement4 = replacement3.replace(\"G\", \"c\")\n",
    "print(replacement4)\n",
    "print(replacement4.upper())"
   ]
  },
  {
   "cell_type": "code",
   "execution_count": 60,
   "metadata": {
    "collapsed": false
   },
   "outputs": [
    {
     "name": "stdout",
     "output_type": "stream",
     "text": [
      "Length fragment one is 22\n",
      "Length fragment two is 33\n"
     ]
    }
   ],
   "source": [
    "myDNA2 = \"ACTGATCGATTACGTATAGTAGAATTCTATCATACATATATATCGATGCGTTCAT\"\n",
    "# fisrt, find manually the EcoRI restriction enzym, then mark and count how many nucleotides before and after the enzym\n",
    "# write a program which will calculate the size of the two fragments separated by the EcoRI restriction enzym indicated by \"G*AA\n",
    "length_frag1 = myDNA2.find(\"GAATTC\") + 1\n",
    "length_frag2 = len(myDNA2) - length_frag1\n",
    "print(\"Length fragment one is \" + str(length_frag1))\n",
    "print(\"Length fragment two is \" + str(length_frag2))"
   ]
  },
  {
   "cell_type": "code",
   "execution_count": 68,
   "metadata": {
    "collapsed": false
   },
   "outputs": [],
   "source": [
    "myDNA3 = \"ATCGATCGATCGATCGACTGACTAGTCATAGCTATGCATGTAGCTACTCGATCGATCGATCGATCGATCGATCGATCGATCGATCATGCTATCATCGATCGATATCGATGCATCGACTACTAT\"\n",
    "# Exon1 = nucletide 0 - 63 (from the start of the sequence to the sixty-third character)\n",
    "# intron = nucleotide 64 -90\n",
    "# Exon2 = nucleotide 91 - end (from the ninety-first character to the end of the sequence)\n",
    "# Command: Write a program that will print just the coding regions of the DNA sequence!!"
   ]
  },
  {
   "cell_type": "code",
   "execution_count": 69,
   "metadata": {
    "collapsed": false
   },
   "outputs": [
    {
     "name": "stdout",
     "output_type": "stream",
     "text": [
      "ATCGATCGATCGATCGACTGACTAGTCATAGCTATGCATGTAGCTACTCGATCGATCGATCGATCGATCGATCGATCGATCGATCATGCTATCATCGATCGATATCGATGCATCGACTACTAT\n"
     ]
    }
   ],
   "source": [
    "print(myDNA3)"
   ]
  },
  {
   "cell_type": "code",
   "execution_count": 70,
   "metadata": {
    "collapsed": false
   },
   "outputs": [
    {
     "name": "stdout",
     "output_type": "stream",
     "text": [
      "ATCGA\n"
     ]
    }
   ],
   "source": [
    "Exon1 = myDNA3[0:5]\n",
    "print(Exon1)"
   ]
  },
  {
   "cell_type": "code",
   "execution_count": 81,
   "metadata": {
    "collapsed": false
   },
   "outputs": [
    {
     "name": "stdout",
     "output_type": "stream",
     "text": [
      "myDNA is ATCGATCGATCGATCGACTGACTAGTCATAGCTATGCATGTAGCTACTCGATCGATCGATCGATCGATCGATCGATCGATCGATCATGCTATCATCGATCGATATCGATGCATCGACTACTAT\n",
      "Exon one is ATCGATCGATCGATCGACTGACTAGTCATAGCTATGCATGTAGCTACTCGATCGATCGATCGAT\n",
      "Exon two is TCATCGATCGATATCGATGCATCGACTACTAT\n",
      "the Coding Region is ATCGATCGATCGATCGACTGACTAGTCATAGCTATGCATGTAGCTACTCGATCGATCGATCGATTCATCGATCGATATCGATGCATCGACTACTAT\n"
     ]
    }
   ],
   "source": [
    "print(\"myDNA is \" + myDNA3)\n",
    "Exon1 = myDNA3[0:64]\n",
    "print(\"Exon one is \" + Exon1)\n",
    "Exon2 = myDNA3[91:10000]\n",
    "print(\"Exon two is \" + Exon2)\n",
    "Coding_Region = Exon1 + Exon2\n",
    "print(\"the Coding Region is \" + Coding_Region)"
   ]
  },
  {
   "cell_type": "code",
   "execution_count": 79,
   "metadata": {
    "collapsed": false
   },
   "outputs": [
    {
     "name": "stdout",
     "output_type": "stream",
     "text": [
      "ATCGATCGATCGATCGACTGACTAGTCATAGCTATGCATGTAGCTACTCGATCGATCGATCGATCGATCGATCGATCGATCGATCATGCTATCATCGATCGATATCGATGCATCGACTACTAT\n",
      "ATCGATCGATCGATCGACTGACTAGTCATAGCTATGCATGTAGCTACTCGATCGATCGATCGATTCATCGATCGATATCGATGCATCGACTACTAT\n",
      "the Percentage of DNA Sequence is 78.04878048780488 %\n"
     ]
    }
   ],
   "source": [
    "# Using the data from part one, write a program that will calculate what percentage of the DNA sequence is coding.\n",
    "print(myDNA3)\n",
    "print(Coding_Region)\n",
    "total_DNAlength = len(myDNA3)\n",
    "length_DNACoding = len(Coding_Region)\n",
    "percentage_DNASequence = (length_DNACoding / total_DNAlength)*100\n",
    "print(\"the Percentage of DNA Sequence is \" + str(percentage_DNASequence) + \" \"\"%\")"
   ]
  },
  {
   "cell_type": "code",
   "execution_count": 59,
   "metadata": {
    "collapsed": false
   },
   "outputs": [
    {
     "name": "stdout",
     "output_type": "stream",
     "text": [
      "This is the original sequence: ATCGATCGATCGATCGACTGACTAGTCATAGCTATGCATGTAGCTACTCGATCGATCGATCGATCGATCGATCGATCGATCGATCATGCTATCATCGATCGATATCGATGCATCGACTACTAT\n",
      "the Exon one is ATCGATCGATCGATCGACTGACTAGTCATAGCTATGCATGTAGCTACTCGATCGATCGATCG\n",
      "the Intron is CGATCGATCGATCGATCGATCATGCTA\n",
      "the Exon2 is ATCATCGATCGATATCGATGCATCGACTACTAT\n",
      "This is the answer: ATCGATCGATCGATCGACTGACTAGTCATAGCTATGCATGTAGCTACTCGATCGATCGATCGcgatcgatcgatcgatcgatcatgctaATCATCGATCGATATCGATGCATCGACTACTAT\n"
     ]
    },
    {
     "data": {
      "text/plain": [
       "122"
      ]
     },
     "execution_count": 59,
     "metadata": {},
     "output_type": "execute_result"
    }
   ],
   "source": [
    "# write a program: coding bases in uppercase and non-coding bases in lowercase\n",
    "print(\"This is the original sequence: \" + myDNA3)\n",
    "print(\"the Exon one is \" + Exon1)\n",
    "Intron = myDNA3[64:91]\n",
    "print(\"the Intron is \" + Intron)\n",
    "print(\"the Exon2 is \" + Exon2)\n",
    "print(\"This is the answer: \" + Exon1 + Intron.lower() + Exon2)\n",
    "len(Exon1 + Intron.lower() + Exon2)"
   ]
  },
  {
   "cell_type": "markdown",
   "metadata": {},
   "source": [
    "# PART 2"
   ]
  },
  {
   "cell_type": "markdown",
   "metadata": {},
   "source": [
    "# CHAPTER 3 - EXAMPLES"
   ]
  },
  {
   "cell_type": "code",
   "execution_count": 8,
   "metadata": {
    "collapsed": false
   },
   "outputs": [],
   "source": [
    "my_file = open(\"dna.txt\")"
   ]
  },
  {
   "cell_type": "code",
   "execution_count": 10,
   "metadata": {
    "collapsed": false
   },
   "outputs": [
    {
     "name": "stdout",
     "output_type": "stream",
     "text": [
      "ACTGTACGTGCACTGATC\n",
      "\n"
     ]
    }
   ],
   "source": [
    "file_content = my_file.read()\n",
    "print(file_content)"
   ]
  },
  {
   "cell_type": "code",
   "execution_count": 16,
   "metadata": {
    "collapsed": false
   },
   "outputs": [
    {
     "name": "stdout",
     "output_type": "stream",
     "text": [
      "ACTGTACGTGCACTGATC\n",
      "\n"
     ]
    }
   ],
   "source": [
    "my_file_name = \"dna.txt\"\n",
    "my_file = open(my_file_name) #open the file\n",
    "my_file_contents = my_file.read() #read the content\n",
    "print(my_file_contents)"
   ]
  },
  {
   "cell_type": "code",
   "execution_count": 18,
   "metadata": {
    "collapsed": false
   },
   "outputs": [
    {
     "name": "stdout",
     "output_type": "stream",
     "text": [
      "the sequence is ACTGTACGTGCACTGATC\n",
      ",and the length is 19\n"
     ]
    }
   ],
   "source": [
    "DNA_length = len(my_file_contents)\n",
    "print(\"the sequence is \" + my_file_contents + \",and the length is \" + str(DNA_length))"
   ]
  },
  {
   "cell_type": "code",
   "execution_count": 19,
   "metadata": {
    "collapsed": false
   },
   "outputs": [
    {
     "data": {
      "text/plain": [
       "\"'ACTGTACGTGCACTGATC\\\\n'\""
      ]
     },
     "execution_count": 19,
     "metadata": {},
     "output_type": "execute_result"
    }
   ],
   "source": [
    "repr(my_file_contents)"
   ]
  },
  {
   "cell_type": "code",
   "execution_count": 22,
   "metadata": {
    "collapsed": false
   },
   "outputs": [
    {
     "name": "stdout",
     "output_type": "stream",
     "text": [
      "the sequence is ACTGTACGTGCACTGATC, and the length is 18\n"
     ]
    }
   ],
   "source": [
    "my_file_name = \"dna.txt\"\n",
    "my_file = open(my_file_name) #open the file\n",
    "my_file_contents = my_file.read() #read the content\n",
    "my_DNA = my_file_contents.rstrip()\n",
    "DNA_length = len(my_DNA)\n",
    "print(\"the sequence is \" + my_DNA + \", and the length is \" + str(DNA_length))"
   ]
  },
  {
   "cell_type": "code",
   "execution_count": 32,
   "metadata": {
    "collapsed": false
   },
   "outputs": [
    {
     "data": {
      "text/plain": [
       "6"
      ]
     },
     "execution_count": 32,
     "metadata": {},
     "output_type": "execute_result"
    }
   ],
   "source": [
    "myFile = open(\"out.txt\", \"a\")\n",
    "myFile.write(\" hello\")"
   ]
  },
  {
   "cell_type": "code",
   "execution_count": 33,
   "metadata": {
    "collapsed": true
   },
   "outputs": [],
   "source": [
    "myFile.close()"
   ]
  },
  {
   "cell_type": "code",
   "execution_count": 35,
   "metadata": {
    "collapsed": false
   },
   "outputs": [],
   "source": [
    "myFile = open(\"/home/eeb177-student/Desktop/eeb-177/home-work/homework4/data_question4/input.txt\")"
   ]
  },
  {
   "cell_type": "code",
   "execution_count": 36,
   "metadata": {
    "collapsed": false
   },
   "outputs": [
    {
     "name": "stdout",
     "output_type": "stream",
     "text": [
      "ATTCGATTATAAGCTCGATCGATCGATCGATCGATCGATCGATCGATCGATCGATC\n",
      "ATTCGATTATAAGCACTGATCGATCGATCGATCGATCGATGCTATCGTCGT\n",
      "ATTCGATTATAAGCATCGATCACGATCTATCGTACGTATGCATATCGATATCGATCGTAGTC\n",
      "ATTCGATTATAAGCACTATCGATGATCTAGCTACGATCGTAGCTGTA\n",
      "ATTCGATTATAAGCACTAGCTAGTCTCGATGCATGATCAGCTTAGCTGATGATGCTATGCA\n",
      "\n"
     ]
    }
   ],
   "source": [
    "myFile_contents = myFile.read()\n",
    "print(myFile_contents)"
   ]
  },
  {
   "cell_type": "markdown",
   "metadata": {},
   "source": [
    "# CHAPTER 3 - EXERCISE"
   ]
  },
  {
   "cell_type": "markdown",
   "metadata": {},
   "source": [
    "# SPLITTING GENOMIC DNA"
   ]
  },
  {
   "cell_type": "code",
   "execution_count": 44,
   "metadata": {
    "collapsed": false
   },
   "outputs": [
    {
     "name": "stdout",
     "output_type": "stream",
     "text": [
      "ATCGATCGATCGATCGACTGACTAGTCATAGCTATGCATGTAGCTACTCGATCGATCGATCGATCGATCGATCGATCGATCGATCATGCTATCATCGATCGATATCGATGCATCGACTACTAT\n",
      "\n"
     ]
    }
   ],
   "source": [
    "myDNA_file = open(\"genomic_dna.txt\")\n",
    "myDNA = myDNA_file.read()\n",
    "print(myDNA)"
   ]
  },
  {
   "cell_type": "code",
   "execution_count": 45,
   "metadata": {
    "collapsed": false
   },
   "outputs": [
    {
     "name": "stdout",
     "output_type": "stream",
     "text": [
      "124\n"
     ]
    }
   ],
   "source": [
    "myDNA_length = len(myDNA)\n",
    "print(myDNA_length)"
   ]
  },
  {
   "cell_type": "code",
   "execution_count": 56,
   "metadata": {
    "collapsed": false
   },
   "outputs": [
    {
     "data": {
      "text/plain": [
       "124"
      ]
     },
     "execution_count": 56,
     "metadata": {},
     "output_type": "execute_result"
    }
   ],
   "source": [
    "len(myDNA)"
   ]
  },
  {
   "cell_type": "code",
   "execution_count": 57,
   "metadata": {
    "collapsed": true
   },
   "outputs": [],
   "source": [
    "my_dna = \"ATCGATCGATCGATCGACTGACTAGTCATAGCTATGCATGTAGCTACTCGATCGATCGATCGATCGATCGATCGATCGATCGATCATGCTATCATCGATCGATATCGATGCATCGACTACTAT\""
   ]
  },
  {
   "cell_type": "code",
   "execution_count": 58,
   "metadata": {
    "collapsed": false
   },
   "outputs": [
    {
     "data": {
      "text/plain": [
       "124"
      ]
     },
     "execution_count": 58,
     "metadata": {},
     "output_type": "execute_result"
    }
   ],
   "source": [
    "len(my_DNA)"
   ]
  },
  {
   "cell_type": "code",
   "execution_count": 60,
   "metadata": {
    "collapsed": false
   },
   "outputs": [
    {
     "name": "stdout",
     "output_type": "stream",
     "text": [
      "ATCGATCGATCGATCGACTGACTAGTCATAGCTATGCATGTAGCTACTCGATCGATCGATCGatcgatcgatcgatcgatcgatcatgctATCATCGATCGATATCGATGCATCGACTACTAT\n"
     ]
    }
   ],
   "source": [
    "exon1 = my_dna[0:62]\n",
    "intron = my_dna[62:90]\n",
    "exon2 = my_dna[90:10000]\n",
    "print(exon1 + intron.lower() + exon2)"
   ]
  },
  {
   "cell_type": "code",
   "execution_count": 61,
   "metadata": {
    "collapsed": false
   },
   "outputs": [
    {
     "data": {
      "text/plain": [
       "28"
      ]
     },
     "execution_count": 61,
     "metadata": {},
     "output_type": "execute_result"
    }
   ],
   "source": [
    "# open the file and read its contents\n",
    "myDNA_file = open(\"genomic_dna.txt\")\n",
    "myDNA = myDNA_file.read()\n",
    "# extract the different bits of DNA sequence\n",
    "exon1 = myDNA[0:62]\n",
    "intron = myDNA[62:90]\n",
    "exon2 = myDNA[90:10000]\n",
    "# open the two output files\n",
    "coding_file = open(\"coding_dna2.txt\", \"w\")\n",
    "noncoding_file = open(\"noncoding_dna2.txt\", \"w\")\n",
    "# write the sequences to the output files\n",
    "coding_file.write(exon1 + exon2)\n",
    "noncoding_file.write(intron)"
   ]
  },
  {
   "cell_type": "code",
   "execution_count": 65,
   "metadata": {
    "collapsed": false
   },
   "outputs": [
    {
     "name": "stdout",
     "output_type": "stream",
     "text": [
      "ATCGATCGATCGATCGACTGACTAGTCATAGCTATGCATGTAGCTACTCGATCGATCGATCGATCGATCGATCGATCGATCGATCATGCTATCATCGATCGATATCGATGCATCGACTACTAT\n",
      "\n"
     ]
    }
   ],
   "source": [
    "myDNA_file = open(\"genomic_dna.txt\")\n",
    "myDNA = myDNA_file.read()\n",
    "print(myDNA)"
   ]
  },
  {
   "cell_type": "code",
   "execution_count": 75,
   "metadata": {
    "collapsed": false
   },
   "outputs": [
    {
     "name": "stdout",
     "output_type": "stream",
     "text": [
      "ATCGATCGATCGATCGACTGACTAGTCATAGCTATGCATGTAGCTACTCGATCGATCGATCG\n",
      "ATCGATCGATCGATCGATCGATCATGCT\n",
      "ATCATCGATCGATATCGATGCATCGACTACTAT\n",
      "\n"
     ]
    }
   ],
   "source": [
    "exon1 = myDNA[0:62]\n",
    "print(exon1)\n",
    "intron = myDNA[62:90]\n",
    "print(intron)\n",
    "exon2 = myDNA[90:10000]\n",
    "print(exon2)"
   ]
  },
  {
   "cell_type": "code",
   "execution_count": 76,
   "metadata": {
    "collapsed": false
   },
   "outputs": [
    {
     "data": {
      "text/plain": [
       "96"
      ]
     },
     "execution_count": 76,
     "metadata": {},
     "output_type": "execute_result"
    }
   ],
   "source": [
    "coding_file = open(\"coding_dna2.txt\", \"w\")\n",
    "coding_file.write(exon1 + exon2)"
   ]
  },
  {
   "cell_type": "code",
   "execution_count": 77,
   "metadata": {
    "collapsed": false
   },
   "outputs": [
    {
     "name": "stdout",
     "output_type": "stream",
     "text": [
      "ATCGATCGATCGATCGACTGACTAGTCATAGCTATGCATGTAGCTACTCGATCGATCGATCGATCATCGATCGATATCGATGCATCGACTACTAT\n",
      "\n"
     ]
    }
   ],
   "source": [
    "coding_file.close()\n",
    "coding_file = open(\"coding_dna2.txt\")\n",
    "coding_content = coding_file.read()\n",
    "print(coding_content)"
   ]
  },
  {
   "cell_type": "code",
   "execution_count": 78,
   "metadata": {
    "collapsed": false
   },
   "outputs": [
    {
     "data": {
      "text/plain": [
       "96"
      ]
     },
     "execution_count": 78,
     "metadata": {},
     "output_type": "execute_result"
    }
   ],
   "source": [
    "len(coding_content)"
   ]
  },
  {
   "cell_type": "code",
   "execution_count": 81,
   "metadata": {
    "collapsed": false
   },
   "outputs": [
    {
     "name": "stdout",
     "output_type": "stream",
     "text": [
      "ATCGATCGATCGATCGATCGATCATGCT\n"
     ]
    }
   ],
   "source": [
    "noncoding_file = open(\"noncoding_dna2.txt\", \"w\")\n",
    "noncoding_file.write(intron)\n",
    "noncoding_file = open(\"noncoding_dna2.txt\")\n",
    "noncoding_content = noncoding_file.read()\n",
    "print(noncoding_content)"
   ]
  },
  {
   "cell_type": "code",
   "execution_count": 83,
   "metadata": {
    "collapsed": false
   },
   "outputs": [
    {
     "data": {
      "text/plain": [
       "28"
      ]
     },
     "execution_count": 83,
     "metadata": {},
     "output_type": "execute_result"
    }
   ],
   "source": [
    "len(noncoding_content)"
   ]
  },
  {
   "cell_type": "markdown",
   "metadata": {},
   "source": [
    "# WRITING A FASTA FILE"
   ]
  },
  {
   "cell_type": "code",
   "execution_count": 84,
   "metadata": {
    "collapsed": true
   },
   "outputs": [],
   "source": [
    "header_1 = \"ABC123\"\n",
    "header_2 = \"DEF456\"\n",
    "header_3 = \"HIJ789\"\n",
    "seq_1 = \"ATCGTACGATCGATCGATCGCTAGACGTATCG\"\n",
    "seq_2 = \"actgatcgacgatcgatcgatcacgact\"\n",
    "seq_3 = \"ACTGAC-ACTGT--ACTGTA----CATGTG\""
   ]
  },
  {
   "cell_type": "code",
   "execution_count": 85,
   "metadata": {
    "collapsed": false
   },
   "outputs": [
    {
     "name": "stdout",
     "output_type": "stream",
     "text": [
      "ABC123\n",
      "ATCGTACGATCGATCGATCGCTAGACGTATCG\n",
      "DEF456\n",
      "actgatcgacgatcgatcgatcacgact\n",
      "HIJ789\n",
      "ACTGAC-ACTGT--ACTGTA----CATGTG\n"
     ]
    }
   ],
   "source": [
    "print(header_1)\n",
    "print(seq_1)\n",
    "print(header_2)\n",
    "print(seq_2)\n",
    "print(header_3)\n",
    "print(seq_3)"
   ]
  },
  {
   "cell_type": "code",
   "execution_count": 89,
   "metadata": {
    "collapsed": false
   },
   "outputs": [
    {
     "name": "stdout",
     "output_type": "stream",
     "text": [
      ">ABC123 > ATCGTACGATCGATCGATCGCTAGACGTATCG\n",
      ">DEF456 > actgatcgacgatcgatcgatcacgact\n",
      ">HIJ789 > ACTGAC-ACTGT--ACTGTA----CATGTG\n"
     ]
    }
   ],
   "source": [
    "print('>' + header_1 + \" > \" + seq_1)\n",
    "print('>' + header_2 + \" > \" + seq_2)\n",
    "print('>' + header_3 + \" > \" + seq_3)"
   ]
  },
  {
   "cell_type": "code",
   "execution_count": 86,
   "metadata": {
    "collapsed": false
   },
   "outputs": [
    {
     "name": "stdout",
     "output_type": "stream",
     "text": [
      ">ABC123\n",
      "ATCGTACGATCGATCGATCGCTAGACGTATCG\n",
      ">DEF456\n",
      "actgatcgacgatcgatcgatcacgact\n",
      ">HIJ789\n",
      "ACTGAC-ACTGT--ACTGTA----CATGTG\n"
     ]
    }
   ],
   "source": [
    "print('>' + header_1 + '\\n' + seq_1)\n",
    "print('>' + header_2 + '\\n' + seq_2)\n",
    "print('>' + header_3 + '\\n' + seq_3)"
   ]
  },
  {
   "cell_type": "code",
   "execution_count": 95,
   "metadata": {
    "collapsed": false
   },
   "outputs": [
    {
     "name": "stdout",
     "output_type": "stream",
     "text": [
      ">ABC123\n",
      "ATCGTACGATCGATCGATCGCTAGACGTATCG\n",
      ">DEF456\n",
      "ACTGATCGACGATCGATCGATCACGACT\n",
      ">HIJ789\n",
      "ACTGACACTGTACTGTACATGTG\n"
     ]
    }
   ],
   "source": [
    "print('>' + header_1 + '\\n' + seq_1)\n",
    "print('>' + header_2 + '\\n' + seq_2.upper())\n",
    "print('>' + header_3 + '\\n' + seq_3.replace('-', ''))"
   ]
  },
  {
   "cell_type": "code",
   "execution_count": 100,
   "metadata": {
    "collapsed": false
   },
   "outputs": [
    {
     "data": {
      "text/plain": [
       "40"
      ]
     },
     "execution_count": 100,
     "metadata": {},
     "output_type": "execute_result"
    }
   ],
   "source": [
    "output = open(\"sequences.fasta\", \"w\")\n",
    "output.write('>' + header_1 + '\\n' + seq_1)"
   ]
  },
  {
   "cell_type": "code",
   "execution_count": 104,
   "metadata": {
    "collapsed": false
   },
   "outputs": [
    {
     "data": {
      "text/plain": [
       "37"
      ]
     },
     "execution_count": 104,
     "metadata": {},
     "output_type": "execute_result"
    }
   ],
   "source": [
    "output = open(\"sequences.fasta\", \"a\")\n",
    "output.write(\"\\n\" + '>' + header_2 + '\\n' + seq_2.upper())"
   ]
  },
  {
   "cell_type": "code",
   "execution_count": 108,
   "metadata": {
    "collapsed": false
   },
   "outputs": [
    {
     "data": {
      "text/plain": [
       "32"
      ]
     },
     "execution_count": 108,
     "metadata": {},
     "output_type": "execute_result"
    }
   ],
   "source": [
    "output = open(\"sequences.fasta\", \"w\")\n",
    "output.write('>' + header_1 + '\\n' + seq_1 + '\\n')\n",
    "output.write('>' + header_2 + '\\n' + seq_2.upper() + '\\n')\n",
    "output.write('>' + header_3 + '\\n' + seq_3.replace('-', '') + '\\n')"
   ]
  },
  {
   "cell_type": "code",
   "execution_count": 112,
   "metadata": {
    "collapsed": false
   },
   "outputs": [
    {
     "data": {
      "text/plain": [
       "33"
      ]
     },
     "execution_count": 112,
     "metadata": {},
     "output_type": "execute_result"
    }
   ],
   "source": [
    "# set the values of all the header variables\n",
    "header_1 = \"ABC123\"\n",
    "header_2 = \"DEF456\"\n",
    "header_3 = \"HIJ789\"\n",
    "# set the values of all the sequence variables\n",
    "seq_1 = \"ATCGTACGATCGATCGATCGCTAGACGTATCG\"\n",
    "seq_2 = \"actgatcgacgatcgatcgatcacgact\"\n",
    "seq_3 = \"ACTGAC-ACTGT—ACTGTA----CATGTG\"\n",
    "# make a new file to hold the output\n",
    "output = open(\"sequences2.fasta\", \"w\")\n",
    "# write the header and sequence for seq1\n",
    "output.write('>' + header_1 + '\\n' + seq_1 + '\\n')\n",
    "# write the header and uppercase sequences for seq2\n",
    "output.write('>' + header_2 + '\\n' + seq_2.upper() + '\\n')\n",
    "# write the header and sequence for seq3 with hyphens removed\n",
    "output.write('>' + header_3 + '\\n' + seq_3.replace('-', '') + '\\n')"
   ]
  },
  {
   "cell_type": "markdown",
   "metadata": {},
   "source": [
    "# WRITING MULTIPLE FASTA FILES"
   ]
  },
  {
   "cell_type": "code",
   "execution_count": 113,
   "metadata": {
    "collapsed": true
   },
   "outputs": [],
   "source": [
    "# make three files to hold the output\n",
    "output_1 = open(header_1 + \".fasta\", \"w\")\n",
    "output_2 = open(header_2 + \".fasta\", \"w\")\n",
    "output_3 = open(header_3 + \".fasta\", \"w\")"
   ]
  },
  {
   "cell_type": "code",
   "execution_count": 116,
   "metadata": {
    "collapsed": false
   },
   "outputs": [
    {
     "data": {
      "text/plain": [
       "32"
      ]
     },
     "execution_count": 116,
     "metadata": {},
     "output_type": "execute_result"
    }
   ],
   "source": [
    "# set the values of all the header variables\n",
    "header_1 = \"ABC123\"\n",
    "header_2 = \"DEF456\"\n",
    "header_3 = \"HIJ789\"\n",
    "\n",
    "# set the values of all the sequence variables\n",
    "seq_1 = \"ATCGTACGATCGATCGATCGCTAGACGTATCG\"\n",
    "seq_2 = \"actgatcgacgatcgatcgatcacgact\"\n",
    "seq_3 = \"ACTGAC-ACTGT—ACTGTA----CATGTG\"\n",
    "\n",
    "# make three files to hold the output\n",
    "output_1 = open(header_1 + \".fasta\", \"w\")\n",
    "output_2 = open(header_2 + \".fasta\", \"w\")\n",
    "output_3 = open(header_3 + \".fasta\", \"w\")\n",
    "\n",
    "# write one sequence to each output file\n",
    "output_1.write(header_1 + '\\n' + seq_1 + '\\n')\n",
    "output_2.write(header_2 + '\\n' + seq_2.upper() + '\\n')\n",
    "output_3.write(header_3 + '\\n' + seq_3.replace('-', '') + '\\n')"
   ]
  },
  {
   "cell_type": "markdown",
   "metadata": {},
   "source": [
    "# CHAPTER 4 - EXAMPLES\n",
    "# LIST AND LOOP"
   ]
  },
  {
   "cell_type": "code",
   "execution_count": 1,
   "metadata": {
    "collapsed": false
   },
   "outputs": [
    {
     "name": "stdout",
     "output_type": "stream",
     "text": [
      "Homo sapiens is an ape. Its name starts with H\n",
      "Its name has 12 letters\n",
      "Pan troglodytes is an ape. Its name starts with P\n",
      "Its name has 15 letters\n",
      "Gorilla gorilla is an ape. Its name starts with G\n",
      "Its name has 15 letters\n"
     ]
    }
   ],
   "source": [
    "apes = [\"Homo sapiens\", \"Pan troglodytes\", \"Gorilla gorilla\"]\n",
    "for ape in apes:\n",
    "    name_length = len(ape)\n",
    "    first_letter = ape[0]\n",
    "    print(ape + \" is an ape. Its name starts with \" + first_letter)\n",
    "    print(\"Its name has \" + str(name_length) + \" letters\")"
   ]
  },
  {
   "cell_type": "code",
   "execution_count": 2,
   "metadata": {
    "collapsed": false
   },
   "outputs": [
    {
     "name": "stdout",
     "output_type": "stream",
     "text": [
      "at the start: ['Mercedes', 'BMW', 'Audi', 'Jeep']\n",
      "after reversing: ['Jeep', 'Audi', 'BMW', 'Mercedes']\n",
      "after sorting: ['Audi', 'BMW', 'Jeep', 'Mercedes']\n",
      "Audi is a car. Its name starts with A\n",
      "Its name has 4 letters\n",
      "BMW is a car. Its name starts with B\n",
      "Its name has 3 letters\n",
      "Jeep is a car. Its name starts with J\n",
      "Its name has 4 letters\n",
      "Mercedes is a car. Its name starts with M\n",
      "Its name has 8 letters\n"
     ]
    }
   ],
   "source": [
    "car = [\"Mercedes\", \"BMW\", \"Audi\", \"Jeep\"]\n",
    "print(\"at the start: \" + str(car))\n",
    "car.reverse()\n",
    "print(\"after reversing: \" + str(car))\n",
    "car.sort()\n",
    "print(\"after sorting: \" + str(car))\n",
    "for name in car:\n",
    "    name_length = len(name)\n",
    "    first_letter = name[0]\n",
    "    print(name + \" is a car. Its name starts with \" + first_letter)\n",
    "    print(\"Its name has \" + str(name_length) + \" letters\")"
   ]
  },
  {
   "cell_type": "code",
   "execution_count": 10,
   "metadata": {
    "collapsed": false
   },
   "outputs": [
    {
     "name": "stdout",
     "output_type": "stream",
     "text": [
      "Mercedes has 8 letters.\n",
      "one letter is M\n",
      "one letter is e\n",
      "one letter is r\n",
      "one letter is c\n",
      "one letter is e\n",
      "one letter is d\n",
      "one letter is e\n",
      "one letter is s\n"
     ]
    }
   ],
   "source": [
    "car_name = \"Mercedes\"\n",
    "the_length = len(car_name)\n",
    "print(car_name + \" has \" + str(the_length) + \" letters.\")\n",
    "for letter in car_name:\n",
    "    print(\"one letter is \" + letter)"
   ]
  },
  {
   "cell_type": "code",
   "execution_count": 11,
   "metadata": {
    "collapsed": false
   },
   "outputs": [
    {
     "name": "stdout",
     "output_type": "stream",
     "text": [
      "Mercedes has 8 letters.\n",
      "one letter is M\n",
      "Mercedes has 8 letters.\n",
      "one letter is e\n",
      "Mercedes has 8 letters.\n",
      "one letter is r\n",
      "Mercedes has 8 letters.\n",
      "one letter is c\n",
      "Mercedes has 8 letters.\n",
      "one letter is e\n",
      "Mercedes has 8 letters.\n",
      "one letter is d\n",
      "Mercedes has 8 letters.\n",
      "one letter is e\n",
      "Mercedes has 8 letters.\n",
      "one letter is s\n"
     ]
    }
   ],
   "source": [
    "car_name = \"Mercedes\"\n",
    "for letter in car_name:\n",
    "    the_length = len(car_name)\n",
    "    print(car_name + \" has \" + str(the_length) + \" letters.\")\n",
    "    print(\"one letter is \" + letter)"
   ]
  },
  {
   "cell_type": "code",
   "execution_count": 12,
   "metadata": {
    "collapsed": false
   },
   "outputs": [
    {
     "ename": "AttributeError",
     "evalue": "'list' object has no attribute 'split'",
     "output_type": "error",
     "traceback": [
      "\u001b[0;31m---------------------------------------------------------------------------\u001b[0m",
      "\u001b[0;31mAttributeError\u001b[0m                            Traceback (most recent call last)",
      "\u001b[0;32m<ipython-input-12-b6b61285941a>\u001b[0m in \u001b[0;36m<module>\u001b[0;34m()\u001b[0m\n\u001b[1;32m      1\u001b[0m \u001b[0mcar2\u001b[0m \u001b[0;34m=\u001b[0m \u001b[0;34m[\u001b[0m\u001b[0;34m\"Toyota\"\u001b[0m\u001b[0;34m,\u001b[0m \u001b[0;34m\"Mitsubishi\"\u001b[0m\u001b[0;34m,\u001b[0m \u001b[0;34m\"Honda\"\u001b[0m\u001b[0;34m,\u001b[0m \u001b[0;34m\"Maserrati\"\u001b[0m\u001b[0;34m]\u001b[0m\u001b[0;34m\u001b[0m\u001b[0m\n\u001b[0;32m----> 2\u001b[0;31m \u001b[0mcar_list\u001b[0m \u001b[0;34m=\u001b[0m \u001b[0mcar2\u001b[0m\u001b[0;34m.\u001b[0m\u001b[0msplit\u001b[0m\u001b[0;34m(\u001b[0m\u001b[0;34m\",\"\u001b[0m\u001b[0;34m)\u001b[0m\u001b[0;34m\u001b[0m\u001b[0m\n\u001b[0m\u001b[1;32m      3\u001b[0m \u001b[0mprint\u001b[0m\u001b[0;34m(\u001b[0m\u001b[0mstr\u001b[0m\u001b[0;34m(\u001b[0m\u001b[0mcar_list\u001b[0m\u001b[0;34m)\u001b[0m\u001b[0;34m)\u001b[0m\u001b[0;34m\u001b[0m\u001b[0m\n",
      "\u001b[0;31mAttributeError\u001b[0m: 'list' object has no attribute 'split'"
     ]
    }
   ],
   "source": [
    "car2 = [\"Toyota\", \"Mitsubishi\", \"Honda\", \"Maserrati\"]\n",
    "car_list = car2.split(\",\")\n",
    "print(str(car_list))"
   ]
  },
  {
   "cell_type": "code",
   "execution_count": 13,
   "metadata": {
    "collapsed": false
   },
   "outputs": [
    {
     "name": "stdout",
     "output_type": "stream",
     "text": [
      "['Toyota', ' Mitsubishi', ' Honda', ' Maserrati']\n"
     ]
    }
   ],
   "source": [
    "car2 = \"Toyota, Mitsubishi, Honda, Maserrati\"\n",
    "car_list = car2.split(\",\")\n",
    "print(str(car_list))"
   ]
  },
  {
   "cell_type": "code",
   "execution_count": 22,
   "metadata": {
    "collapsed": false
   },
   "outputs": [
    {
     "ename": "UnsupportedOperation",
     "evalue": "not readable",
     "output_type": "error",
     "traceback": [
      "\u001b[0;31m---------------------------------------------------------------------------\u001b[0m",
      "\u001b[0;31mUnsupportedOperation\u001b[0m                      Traceback (most recent call last)",
      "\u001b[0;32m<ipython-input-22-2b9e5f8b2186>\u001b[0m in \u001b[0;36m<module>\u001b[0;34m()\u001b[0m\n\u001b[1;32m      1\u001b[0m \u001b[0mfile\u001b[0m \u001b[0;34m=\u001b[0m \u001b[0mopen\u001b[0m\u001b[0;34m(\u001b[0m\u001b[0;34m\"some_input.txt\"\u001b[0m\u001b[0;34m,\u001b[0m \u001b[0;34m\"w\"\u001b[0m\u001b[0;34m)\u001b[0m\u001b[0;34m\u001b[0m\u001b[0m\n\u001b[0;32m----> 2\u001b[0;31m \u001b[0mreadable_file\u001b[0m \u001b[0;34m=\u001b[0m \u001b[0mfile\u001b[0m\u001b[0;34m.\u001b[0m\u001b[0mread\u001b[0m\u001b[0;34m(\u001b[0m\u001b[0;34m)\u001b[0m\u001b[0;34m\u001b[0m\u001b[0m\n\u001b[0m\u001b[1;32m      3\u001b[0m \u001b[0;32mfor\u001b[0m \u001b[0mline\u001b[0m \u001b[0;32min\u001b[0m \u001b[0mreadable_file\u001b[0m\u001b[0;34m:\u001b[0m\u001b[0;34m\u001b[0m\u001b[0m\n\u001b[1;32m      4\u001b[0m     \u001b[0mline\u001b[0m\u001b[0;34m.\u001b[0m\u001b[0mwrite\u001b[0m\u001b[0;34m(\u001b[0m\u001b[0;34m\"ONNY\"\u001b[0m\u001b[0;34m)\u001b[0m\u001b[0;34m\u001b[0m\u001b[0m\n",
      "\u001b[0;31mUnsupportedOperation\u001b[0m: not readable"
     ]
    }
   ],
   "source": [
    "file = open(\"some_input.txt\", \"w\")\n",
    "readable_file = file.read()\n",
    "for line in readable_file:\n",
    "    line.write(\"ONNY\")"
   ]
  },
  {
   "cell_type": "code",
   "execution_count": 26,
   "metadata": {
    "collapsed": true
   },
   "outputs": [],
   "source": [
    "file = open(\"some_input.txt\")\n",
    "for line in file:\n",
    "    print(\"I love you\")"
   ]
  },
  {
   "cell_type": "code",
   "execution_count": 29,
   "metadata": {
    "collapsed": false
   },
   "outputs": [
    {
     "name": "stdout",
     "output_type": "stream",
     "text": [
      "vls\n",
      "vlsp\n",
      "vlspa\n",
      "vlspad\n",
      "vlspadk\n",
      "vlspadkt\n",
      "vlspadktn\n",
      "vlspadktnv\n"
     ]
    }
   ],
   "source": [
    "protein = \"vlspadktnv\"\n",
    "stop_positions = [3,4,5,6,7,8,9,10]\n",
    "for stop in stop_positions:\n",
    "    substring = protein[0:stop]\n",
    "    print(substring)"
   ]
  },
  {
   "cell_type": "code",
   "execution_count": 32,
   "metadata": {
    "collapsed": false
   },
   "outputs": [
    {
     "name": "stdout",
     "output_type": "stream",
     "text": [
      "M\n",
      "Me\n",
      "Mer\n",
      "Merc\n",
      "Merce\n",
      "Merced\n",
      "Mercede\n",
      "Mercedes\n",
      "MercedesB\n",
      "MercedesBe\n",
      "MercedesBen\n",
      "MercedesBens\n"
     ]
    }
   ],
   "source": [
    "car = \"MercedesBens\"\n",
    "word = [1,2,3,4,5,6,7,8,9,10,11,12]\n",
    "for letter in word:\n",
    "    substring = car[0:letter]\n",
    "    print(substring)"
   ]
  },
  {
   "cell_type": "code",
   "execution_count": 36,
   "metadata": {
    "collapsed": false
   },
   "outputs": [
    {
     "name": "stdout",
     "output_type": "stream",
     "text": [
      "0\n",
      "1\n",
      "2\n",
      "3\n",
      "4\n",
      "5\n"
     ]
    }
   ],
   "source": [
    "for number in range(6):\n",
    "    print(number)"
   ]
  },
  {
   "cell_type": "code",
   "execution_count": 40,
   "metadata": {
    "collapsed": false
   },
   "outputs": [
    {
     "name": "stdout",
     "output_type": "stream",
     "text": [
      "0\n",
      "2\n",
      "4\n",
      "6\n",
      "8\n",
      "10\n",
      "12\n"
     ]
    }
   ],
   "source": [
    "for number in range(0,13,2):\n",
    "    print(number)"
   ]
  },
  {
   "cell_type": "markdown",
   "metadata": {},
   "source": [
    "# EXERCISE"
   ]
  },
  {
   "cell_type": "markdown",
   "metadata": {},
   "source": [
    "# Processing DNA in a file"
   ]
  },
  {
   "cell_type": "code",
   "execution_count": 41,
   "metadata": {
    "collapsed": false
   },
   "outputs": [
    {
     "name": "stdout",
     "output_type": "stream",
     "text": [
      "ATTCGATTATAAGCTCGATCGATCGATCGATCGATCGATCGATCGATCGATCGATC\n",
      "\n",
      "ATTCGATTATAAGCACTGATCGATCGATCGATCGATCGATGCTATCGTCGT\n",
      "\n",
      "ATTCGATTATAAGCATCGATCACGATCTATCGTACGTATGCATATCGATATCGATCGTAGTC\n",
      "\n",
      "ATTCGATTATAAGCACTATCGATGATCTAGCTACGATCGTAGCTGTA\n",
      "\n",
      "ATTCGATTATAAGCACTAGCTAGTCTCGATGCATGATCAGCTTAGCTGATGATGCTATGCA\n",
      "\n"
     ]
    }
   ],
   "source": [
    "file = open(\"/home/eeb177-student/Desktop/eeb-177/home-work/homework4/data_question4/input.txt\")\n",
    "for dna in file:\n",
    "    print(dna)"
   ]
  },
  {
   "cell_type": "code",
   "execution_count": 45,
   "metadata": {
    "collapsed": false
   },
   "outputs": [
    {
     "name": "stdout",
     "output_type": "stream",
     "text": [
      "TCGATCGATCGATCGATCGATCGATCGATCGATCGATCGATC\n",
      "\n",
      "ACTGATCGATCGATCGATCGATCGATGCTATCGTCGT\n",
      "\n",
      "ATCGATCACGATCTATCGTACGTATGCATATCGATATCGATCGTAGTC\n",
      "\n",
      "ACTATCGATGATCTAGCTACGATCGTAGCTGTA\n",
      "\n",
      "ACTAGCTAGTCTCGATGCATGATCAGCTTAGCTGATGATGCTATGCA\n",
      "\n"
     ]
    }
   ],
   "source": [
    "file = open(\"/home/eeb177-student/Desktop/eeb-177/home-work/homework4/data_question4/input.txt\")\n",
    "for dna in file:\n",
    "    last_character_position = len(dna)\n",
    "    trimmed_dna = dna[14:last_character_position]\n",
    "    print(trimmed_dna)"
   ]
  },
  {
   "cell_type": "code",
   "execution_count": 46,
   "metadata": {
    "collapsed": false
   },
   "outputs": [
    {
     "name": "stdout",
     "output_type": "stream",
     "text": [
      "TCGATCGATCGATCGATCGATCGATCGATCGATCGATCGATC\n",
      "\n",
      "ACTGATCGATCGATCGATCGATCGATGCTATCGTCGT\n",
      "\n",
      "ATCGATCACGATCTATCGTACGTATGCATATCGATATCGATCGTAGTC\n",
      "\n",
      "ACTATCGATGATCTAGCTACGATCGTAGCTGTA\n",
      "\n",
      "ACTAGCTAGTCTCGATGCATGATCAGCTTAGCTGATGATGCTATGCA\n",
      "\n"
     ]
    }
   ],
   "source": [
    "file = open(\"/home/eeb177-student/Desktop/eeb-177/home-work/homework4/data_question4/input.txt\")\n",
    "for dna in file:\n",
    "    trimmed_dna = dna[14:1000]\n",
    "    print(trimmed_dna)"
   ]
  },
  {
   "cell_type": "code",
   "execution_count": 51,
   "metadata": {
    "collapsed": false
   },
   "outputs": [],
   "source": [
    "# open the file\n",
    "file = open(\"/home/eeb177-student/Desktop/eeb-177/home-work/homework4/data_question4/input.txt\")\n",
    "# try to make output file\n",
    "output = open(\"trimmed.txt\", \"w\")\n",
    "# make a loop for every line in the file\n",
    "for dna in file:\n",
    "    # trim the dna in each line from 14th base to the last character with an assumption that the length of dna in every single line not more than 10000 bases\n",
    "    trimmed_dna = dna[14:10000]\n",
    "    # write the result on output file\n",
    "    output.write(trimmed_dna)"
   ]
  },
  {
   "cell_type": "code",
   "execution_count": 56,
   "metadata": {
    "collapsed": false
   },
   "outputs": [
    {
     "name": "stdout",
     "output_type": "stream",
     "text": [
      "5,58\n",
      "\n",
      "72,133\n",
      "\n",
      "190,276\n",
      "\n",
      "340,398\n",
      "\n"
     ]
    }
   ],
   "source": [
    "exon_locations = open(\"/home/eeb177-student/Desktop/eeb-177/home-work/homework4/data_question4/exons.txt\")\n",
    "for line in exon_locations:\n",
    "    print(line)"
   ]
  },
  {
   "cell_type": "code",
   "execution_count": 59,
   "metadata": {
    "collapsed": false
   },
   "outputs": [
    {
     "name": "stdout",
     "output_type": "stream",
     "text": [
      "['5', '58\\n']\n",
      "['72', '133\\n']\n",
      "['190', '276\\n']\n",
      "['340', '398\\n']\n"
     ]
    }
   ],
   "source": [
    "exon_locations = open(\"/home/eeb177-student/Desktop/eeb-177/home-work/homework4/data_question4/exons.txt\")\n",
    "for line in exon_locations:\n",
    "    positions = line.split(',')\n",
    "    print(positions)"
   ]
  },
  {
   "cell_type": "code",
   "execution_count": 60,
   "metadata": {
    "collapsed": false
   },
   "outputs": [
    {
     "name": "stdout",
     "output_type": "stream",
     "text": [
      "start is 5, stop is 58\n",
      "\n",
      "start is 72, stop is 133\n",
      "\n",
      "start is 190, stop is 276\n",
      "\n",
      "start is 340, stop is 398\n",
      "\n"
     ]
    }
   ],
   "source": [
    "exon_locations = open(\"/home/eeb177-student/Desktop/eeb-177/home-work/homework4/data_question4/exons.txt\")\n",
    "for line in exon_locations:\n",
    "    positions = line.split(',')\n",
    "    start = positions[0]\n",
    "    stop = positions[1]\n",
    "    print(\"start is \" + start + \", stop is \" + stop)"
   ]
  },
  {
   "cell_type": "code",
   "execution_count": 61,
   "metadata": {
    "collapsed": false
   },
   "outputs": [
    {
     "ename": "TypeError",
     "evalue": "slice indices must be integers or None or have an __index__ method",
     "output_type": "error",
     "traceback": [
      "\u001b[0;31m---------------------------------------------------------------------------\u001b[0m",
      "\u001b[0;31mTypeError\u001b[0m                                 Traceback (most recent call last)",
      "\u001b[0;32m<ipython-input-61-badf8f8ca86a>\u001b[0m in \u001b[0;36m<module>\u001b[0;34m()\u001b[0m\n\u001b[1;32m      5\u001b[0m     \u001b[0mstart\u001b[0m \u001b[0;34m=\u001b[0m \u001b[0mpositions\u001b[0m\u001b[0;34m[\u001b[0m\u001b[0;36m0\u001b[0m\u001b[0;34m]\u001b[0m\u001b[0;34m\u001b[0m\u001b[0m\n\u001b[1;32m      6\u001b[0m     \u001b[0mstop\u001b[0m \u001b[0;34m=\u001b[0m \u001b[0mpositions\u001b[0m\u001b[0;34m[\u001b[0m\u001b[0;36m1\u001b[0m\u001b[0;34m]\u001b[0m\u001b[0;34m\u001b[0m\u001b[0m\n\u001b[0;32m----> 7\u001b[0;31m     \u001b[0mexon\u001b[0m \u001b[0;34m=\u001b[0m \u001b[0mgenomic_dna\u001b[0m\u001b[0;34m[\u001b[0m\u001b[0mstart\u001b[0m\u001b[0;34m:\u001b[0m\u001b[0mstop\u001b[0m\u001b[0;34m]\u001b[0m\u001b[0;34m\u001b[0m\u001b[0m\n\u001b[0m\u001b[1;32m      8\u001b[0m     \u001b[0mprint\u001b[0m\u001b[0;34m(\u001b[0m\u001b[0;34m\"exon is: \"\u001b[0m \u001b[0;34m+\u001b[0m \u001b[0mexon\u001b[0m\u001b[0;34m)\u001b[0m\u001b[0;34m\u001b[0m\u001b[0m\n",
      "\u001b[0;31mTypeError\u001b[0m: slice indices must be integers or None or have an __index__ method"
     ]
    }
   ],
   "source": [
    "genomic_dna = open(\"/home/eeb177-student/Desktop/eeb-177/home-work/homework4/data_question4/genomic_dna.txt\").read()\n",
    "exon_locations = open(\"/home/eeb177-student/Desktop/eeb-177/home-work/homework4/data_question4/exons.txt\")\n",
    "for line in exon_locations:\n",
    "    positions = line.split(',')\n",
    "    start = positions[0]\n",
    "    stop = positions[1]\n",
    "    exon = genomic_dna[start:stop]\n",
    "    print(\"exon is: \" + exon)"
   ]
  },
  {
   "cell_type": "code",
   "execution_count": 65,
   "metadata": {
    "collapsed": false
   },
   "outputs": [
    {
     "name": "stdout",
     "output_type": "stream",
     "text": [
      "exon is: CGTACCGTCGACGATGCTACGATCGTCGATCGTAGTCGATCATCGATCGATCG\n",
      "exon is: CGATCGATCGATATCGATCGATATCATCGATGCATCGATCATCGATCGATCGATCGATCGA\n",
      "exon is: CGATCGATCGATCGTAGCTAGCTAGCTAGATCGATCATCATCGTAGCTAGCTCGACTAGCTACGTACGATCGATGCATCGATCGTA\n",
      "exon is: CGATCGATCGATCGATCGATCGATCGATCGATCGATCGATCGTAGCTAGCTACGATCG\n"
     ]
    }
   ],
   "source": [
    "genomic_dna = open(\"/home/eeb177-student/Desktop/eeb-177/home-work/homework4/data_question4/genomic_dna.txt\").read()\n",
    "exon_locations = open(\"/home/eeb177-student/Desktop/eeb-177/home-work/homework4/data_question4/exons.txt\")\n",
    "for line in exon_locations:\n",
    "    positions = line.split(',')\n",
    "    start = int(positions[0])\n",
    "    stop = int(positions[1])\n",
    "    exon = genomic_dna[start:stop]\n",
    "    print(\"exon is: \" + exon)"
   ]
  },
  {
   "cell_type": "code",
   "execution_count": 69,
   "metadata": {
    "collapsed": false
   },
   "outputs": [
    {
     "name": "stdout",
     "output_type": "stream",
     "text": [
      "coding sequence is: CGTACCGTCGACGATGCTACGATCGTCGATCGTAGTCGATCATCGATCGATCG\n",
      "coding sequence is: CGATCGATCGATATCGATCGATATCATCGATGCATCGATCATCGATCGATCGATCGATCGA\n",
      "coding sequence is: CGATCGATCGATCGTAGCTAGCTAGCTAGATCGATCATCATCGTAGCTAGCTCGACTAGCTACGTACGATCGATGCATCGATCGTA\n",
      "coding sequence is: CGATCGATCGATCGATCGATCGATCGATCGATCGATCGATCGTAGCTAGCTACGATCG\n"
     ]
    }
   ],
   "source": [
    "genomic_dna = open(\"/home/eeb177-student/Desktop/eeb-177/home-work/homework4/data_question4/genomic_dna.txt\").read()\n",
    "exon_locations = open(\"/home/eeb177-student/Desktop/eeb-177/home-work/homework4/data_question4/exons.txt\")\n",
    "coding_sequence = \"\"\n",
    "for line in exon_locations:\n",
    "    positions = line.split(',')\n",
    "    start = int(positions[0])\n",
    "    stop = int(positions[1])\n",
    "    exon = genomic_dna[start:stop]\n",
    "    coding_sequence = coding_sequence + exon\n",
    "    print(\"coding sequence is: \" + exon)"
   ]
  },
  {
   "cell_type": "code",
   "execution_count": 2,
   "metadata": {
    "collapsed": true
   },
   "outputs": [],
   "source": [
    "# open the genomic dna file and read the contents\n",
    "genomic_dna = open(\"/home/eeb177-student/Desktop/eeb-177/home-work/homework4/data_question4/genomic_dna.txt\").read()\n",
    "# open the exons locations file\n",
    "exon_locations = open(\"/home/eeb177-student/Desktop/eeb-177/home-work/homework4/data_question4/exons.txt\")\n",
    "# create a variable to hold the coding sequence\n",
    "coding_sequence = \"\"\n",
    "# go through each line in the exon locations file\n",
    "for line in exon_locations:\n",
    "    # split the line using a comma\n",
    "    positions = line.split(',')\n",
    "    # get the start and stop positions\n",
    "    start = int(positions[0])\n",
    "    stop = int(positions[1])\n",
    "    # extract the exon from the genomic dna\n",
    "    exon = genomic_dna[start:stop]\n",
    "    # append the exon to the end of the current coding sequence\n",
    "    coding_sequence = coding_sequence + exon\n",
    "    # write the coding sequence to an output file\n",
    "    output = open(\"coding_sequence2.txt\", \"w\")\n",
    "    output.write(coding_sequence)\n",
    "    output.close()"
   ]
  },
  {
   "cell_type": "code",
   "execution_count": null,
   "metadata": {
    "collapsed": true
   },
   "outputs": [],
   "source": []
  }
 ],
 "metadata": {
  "anaconda-cloud": {},
  "kernelspec": {
   "display_name": "Python [default]",
   "language": "python",
   "name": "python3"
  },
  "language_info": {
   "codemirror_mode": {
    "name": "ipython",
    "version": 3
   },
   "file_extension": ".py",
   "mimetype": "text/x-python",
   "name": "python",
   "nbconvert_exporter": "python",
   "pygments_lexer": "ipython3",
   "version": "3.5.2"
  }
 },
 "nbformat": 4,
 "nbformat_minor": 2
}

{
 "cells": [
  {
   "cell_type": "markdown",
   "metadata": {},
   "source": [
    "# Part 1: In Class Challenge Continue, the shell"
   ]
  },
  {
   "cell_type": "code",
   "execution_count": 1,
   "metadata": {
    "collapsed": false
   },
   "outputs": [
    {
     "ename": "SyntaxError",
     "evalue": "invalid syntax (<ipython-input-1-7ff65ef27a11>, line 15)",
     "output_type": "error",
     "traceback": [
      "\u001b[0;36m  File \u001b[0;32m\"<ipython-input-1-7ff65ef27a11>\"\u001b[0;36m, line \u001b[0;32m15\u001b[0m\n\u001b[0;31m    cut -d , -f 3 formatted_nature21074-f1.csv | tail -n+3 | sort | uniq | wc -l\u001b[0m\n\u001b[0m                ^\u001b[0m\n\u001b[0;31mSyntaxError\u001b[0m\u001b[0;31m:\u001b[0m invalid syntax\n"
     ]
    }
   ],
   "source": [
    "#QUESTION (can be answered using shell or python commands)\n",
    "#1.How many families are in this file?\n",
    "\n",
    "#2.Which family has the most species represented?\n",
    "\n",
    "#3.How many families have only a single species in them?\n",
    "\n",
    "#4.How many families are present in the eBird data?\n",
    "\n",
    "#5.How many species are in each family of the eBird data?\n",
    "\n",
    "\n",
    "#ANSWER\n",
    "#1. There are 195 families in this file.\n",
    "cut -d , -f 3 formatted_nature21074-f1.csv | tail -n+3 | sort | uniq | wc -l\n",
    "\n",
    "#2. Trochilida is has the most species represented, which is 102 species.\n",
    "cut -d , -f 3 formatted_nature21074-f1.csv | tail -n+3 | sort | uniq -c\n",
    "\n",
    "#3. there are 61 families, which have only a single species in them\n",
    "cut -d , -f 3 formatted_nature21074-f1.csv | tail -n+3 | sort | uniq -c | grep -w 1 |wc -l\n",
    "\n",
    "#4. there are 240 families in eBird data\n",
    "cut -d , -f 8 formatted_eBird_Taxonomy_v2016_9Aug2016.csv | sort | uniq | wc -l\n",
    "\n",
    "#5. the number of species varies in each family of eBird data.\n",
    "cut -d , -f 8 formatted_eBird_Taxonomy_v2016_9Aug2016.csv | sort | uniq -c\n"
   ]
  },
  {
   "cell_type": "markdown",
   "metadata": {
    "collapsed": true
   },
   "source": [
    "# PART III"
   ]
  },
  {
   "cell_type": "code",
   "execution_count": 3,
   "metadata": {
    "collapsed": false
   },
   "outputs": [
    {
     "name": "stdout",
     "output_type": "stream",
     "text": [
      "Function definitions\n",
      "********************\n",
      "\n",
      "A function definition defines a user-defined function object (see\n",
      "section *The standard type hierarchy*):\n",
      "\n",
      "   funcdef        ::= [decorators] \"def\" funcname \"(\" [parameter_list] \")\" [\"->\" expression] \":\" suite\n",
      "   decorators     ::= decorator+\n",
      "   decorator      ::= \"@\" dotted_name [\"(\" [argument_list [\",\"]] \")\"] NEWLINE\n",
      "   dotted_name    ::= identifier (\".\" identifier)*\n",
      "   parameter_list ::= (defparameter \",\")*\n",
      "                      | \"*\" [parameter] (\",\" defparameter)* [\",\" \"**\" parameter]\n",
      "                      | \"**\" parameter\n",
      "                      | defparameter [\",\"] )\n",
      "   parameter      ::= identifier [\":\" expression]\n",
      "   defparameter   ::= parameter [\"=\" expression]\n",
      "   funcname       ::= identifier\n",
      "\n",
      "A function definition is an executable statement.  Its execution binds\n",
      "the function name in the current local namespace to a function object\n",
      "(a wrapper around the executable code for the function).  This\n",
      "function object contains a reference to the current global namespace\n",
      "as the global namespace to be used when the function is called.\n",
      "\n",
      "The function definition does not execute the function body; this gets\n",
      "executed only when the function is called. [3]\n",
      "\n",
      "A function definition may be wrapped by one or more *decorator*\n",
      "expressions. Decorator expressions are evaluated when the function is\n",
      "defined, in the scope that contains the function definition.  The\n",
      "result must be a callable, which is invoked with the function object\n",
      "as the only argument. The returned value is bound to the function name\n",
      "instead of the function object.  Multiple decorators are applied in\n",
      "nested fashion. For example, the following code\n",
      "\n",
      "   @f1(arg)\n",
      "   @f2\n",
      "   def func(): pass\n",
      "\n",
      "is equivalent to\n",
      "\n",
      "   def func(): pass\n",
      "   func = f1(arg)(f2(func))\n",
      "\n",
      "When one or more *parameters* have the form *parameter* \"=\"\n",
      "*expression*, the function is said to have \"default parameter values.\"\n",
      "For a parameter with a default value, the corresponding *argument* may\n",
      "be omitted from a call, in which case the parameter's default value is\n",
      "substituted.  If a parameter has a default value, all following\n",
      "parameters up until the \"\"*\"\" must also have a default value --- this\n",
      "is a syntactic restriction that is not expressed by the grammar.\n",
      "\n",
      "**Default parameter values are evaluated from left to right when the\n",
      "function definition is executed.** This means that the expression is\n",
      "evaluated once, when the function is defined, and that the same \"pre-\n",
      "computed\" value is used for each call.  This is especially important\n",
      "to understand when a default parameter is a mutable object, such as a\n",
      "list or a dictionary: if the function modifies the object (e.g. by\n",
      "appending an item to a list), the default value is in effect modified.\n",
      "This is generally not what was intended.  A way around this is to use\n",
      "\"None\" as the default, and explicitly test for it in the body of the\n",
      "function, e.g.:\n",
      "\n",
      "   def whats_on_the_telly(penguin=None):\n",
      "       if penguin is None:\n",
      "           penguin = []\n",
      "       penguin.append(\"property of the zoo\")\n",
      "       return penguin\n",
      "\n",
      "Function call semantics are described in more detail in section\n",
      "*Calls*. A function call always assigns values to all parameters\n",
      "mentioned in the parameter list, either from position arguments, from\n",
      "keyword arguments, or from default values.  If the form\n",
      "\"\"*identifier\"\" is present, it is initialized to a tuple receiving any\n",
      "excess positional parameters, defaulting to the empty tuple.  If the\n",
      "form \"\"**identifier\"\" is present, it is initialized to a new\n",
      "dictionary receiving any excess keyword arguments, defaulting to a new\n",
      "empty dictionary. Parameters after \"\"*\"\" or \"\"*identifier\"\" are\n",
      "keyword-only parameters and may only be passed used keyword arguments.\n",
      "\n",
      "Parameters may have annotations of the form \"\": expression\"\" following\n",
      "the parameter name.  Any parameter may have an annotation even those\n",
      "of the form \"*identifier\" or \"**identifier\".  Functions may have\n",
      "\"return\" annotation of the form \"\"-> expression\"\" after the parameter\n",
      "list.  These annotations can be any valid Python expression and are\n",
      "evaluated when the function definition is executed.  Annotations may\n",
      "be evaluated in a different order than they appear in the source code.\n",
      "The presence of annotations does not change the semantics of a\n",
      "function.  The annotation values are available as values of a\n",
      "dictionary keyed by the parameters' names in the \"__annotations__\"\n",
      "attribute of the function object.\n",
      "\n",
      "It is also possible to create anonymous functions (functions not bound\n",
      "to a name), for immediate use in expressions.  This uses lambda\n",
      "expressions, described in section *Lambdas*.  Note that the lambda\n",
      "expression is merely a shorthand for a simplified function definition;\n",
      "a function defined in a \"\"def\"\" statement can be passed around or\n",
      "assigned to another name just like a function defined by a lambda\n",
      "expression.  The \"\"def\"\" form is actually more powerful since it\n",
      "allows the execution of multiple statements and annotations.\n",
      "\n",
      "**Programmer's note:** Functions are first-class objects.  A \"\"def\"\"\n",
      "statement executed inside a function definition defines a local\n",
      "function that can be returned or passed around.  Free variables used\n",
      "in the nested function can access the local variables of the function\n",
      "containing the def.  See section *Naming and binding* for details.\n",
      "\n",
      "See also: **PEP 3107** - Function Annotations\n",
      "\n",
      "     The original specification for function annotations.\n",
      "\n"
     ]
    }
   ],
   "source": [
    "help(\"def\")"
   ]
  },
  {
   "cell_type": "code",
   "execution_count": 30,
   "metadata": {
    "collapsed": false
   },
   "outputs": [
    {
     "name": "stdout",
     "output_type": "stream",
     "text": [
      "0.6774193548387096\n",
      "0.6774193548387096\n",
      "0.0\n"
     ]
    }
   ],
   "source": [
    "def get_at_content (dna):\n",
    "    total_length = len(dna)\n",
    "    A_count = dna.upper().count('A')\n",
    "    T_count = dna.upper().count('T')\n",
    "    AT_content = (A_count + T_count) / total_length\n",
    "    return round(AT_content, 3)\n",
    "\n",
    "my_AT_content = get_at_content(\"ATTTAAAACATATTAGGCCGCGCGAAAATTT\")\n",
    "print(my_AT_content)\n",
    "print(get_at_content(\"ATTTAAAACATATTAGGCCGCGCGAAAATTT\"))\n",
    "print(get_at_content(\"atttaaaacatattaggccgcgcgaaaattt\"))"
   ]
  },
  {
   "cell_type": "code",
   "execution_count": 35,
   "metadata": {
    "collapsed": false
   },
   "outputs": [
    {
     "name": "stdout",
     "output_type": "stream",
     "text": [
      "0.6774193548387096\n",
      "0.6774193548387096\n",
      "0.0\n"
     ]
    }
   ],
   "source": [
    "def get_at_content (dna):\n",
    "    total_length = len(dna)\n",
    "    A_count = dna.count(\"A\") #it doesn't matter using \"\" or ''\n",
    "    T_count = dna.count(\"T\")\n",
    "    AT_content = (A_count + T_count) / total_length\n",
    "    return(AT_content)\n",
    "\n",
    "my_AT_content = get_at_content(\"ATTTAAAACATATTAGGCCGCGCGAAAATTT\")\n",
    "\n",
    "print(my_AT_content) #by using variable\n",
    "print(get_at_content(\"ATTTAAAACATATTAGGCCGCGCGAAAATTT\")) #by using direct argument\n",
    "#it doesn't matter either making a variable or using an argument\n",
    "\n",
    "print(get_at_content(\"atttaaaacatattaggccgcgcgaaaattt\"))"
   ]
  },
  {
   "cell_type": "code",
   "execution_count": 32,
   "metadata": {
    "collapsed": false
   },
   "outputs": [
    {
     "name": "stdout",
     "output_type": "stream",
     "text": [
      "0.677\n",
      "0.677\n",
      "0.0\n"
     ]
    }
   ],
   "source": [
    "def get_at_content (dna):\n",
    "    total_length = len(dna)\n",
    "    A_count = dna.count('A')\n",
    "    T_count = dna.count('T')\n",
    "    AT_content = (A_count + T_count) / total_length\n",
    "    return round(AT_content, 3)\n",
    "\n",
    "my_AT_content = get_at_content(\"ATTTAAAACATATTAGGCCGCGCGAAAATTT\")\n",
    "print(my_AT_content)\n",
    "print(get_at_content(\"ATTTAAAACATATTAGGCCGCGCGAAAATTT\"))\n",
    "print(get_at_content(\"atttaaaacatattaggccgcgcgaaaattt\"))"
   ]
  },
  {
   "cell_type": "code",
   "execution_count": 34,
   "metadata": {
    "collapsed": false
   },
   "outputs": [
    {
     "name": "stdout",
     "output_type": "stream",
     "text": [
      "0.677\n",
      "0.677\n",
      "0.677\n"
     ]
    }
   ],
   "source": [
    "def get_at_content (dna):\n",
    "    total_length = len(dna)\n",
    "    A_count = dna.upper().count('A')\n",
    "    T_count = dna.upper().count('T')\n",
    "    AT_content = (A_count + T_count) / total_length\n",
    "    return round(AT_content, 3)\n",
    "\n",
    "my_AT_content = get_at_content(\"ATTTAAAACATATTAGGCCGCGCGAAAATTT\")\n",
    "print(my_AT_content)\n",
    "print(get_at_content(\"ATTTAAAACATATTAGGCCGCGCGAAAATTT\"))\n",
    "print(get_at_content(\"atttaaaacatattaggccgcgcgaaaattt\"))"
   ]
  },
  {
   "cell_type": "code",
   "execution_count": 13,
   "metadata": {
    "collapsed": false
   },
   "outputs": [
    {
     "name": "stdout",
     "output_type": "stream",
     "text": [
      "0.6904761904761905\n"
     ]
    }
   ],
   "source": [
    "my_dna = \"ATTTCGCGCGCTTTTATTATAAAAAACCCAGTAGTACATTTT\"\n",
    "print(get_at_content(my_dna))"
   ]
  },
  {
   "cell_type": "code",
   "execution_count": 12,
   "metadata": {
    "collapsed": false
   },
   "outputs": [
    {
     "data": {
      "text/plain": [
       "0.6904761904761905"
      ]
     },
     "execution_count": 12,
     "metadata": {},
     "output_type": "execute_result"
    }
   ],
   "source": [
    "get_at_content(\"ATTTCGCGCGCTTTTATTATAAAAAACCCAGTAGTACATTTT\")"
   ]
  },
  {
   "cell_type": "code",
   "execution_count": 15,
   "metadata": {
    "collapsed": false
   },
   "outputs": [
    {
     "name": "stdout",
     "output_type": "stream",
     "text": [
      "the AT content of my dna is 0.6904761904761905\n"
     ]
    }
   ],
   "source": [
    "print(\"the AT content of my dna is \" +  str(get_at_content(my_dna)))"
   ]
  },
  {
   "cell_type": "code",
   "execution_count": 16,
   "metadata": {
    "collapsed": false
   },
   "outputs": [
    {
     "data": {
      "text/plain": [
       "0.6904761904761905"
      ]
     },
     "execution_count": 16,
     "metadata": {},
     "output_type": "execute_result"
    }
   ],
   "source": [
    "get_at_content(my_dna)"
   ]
  },
  {
   "cell_type": "code",
   "execution_count": 17,
   "metadata": {
    "collapsed": false
   },
   "outputs": [
    {
     "ename": "NameError",
     "evalue": "name 'A_count' is not defined",
     "output_type": "error",
     "traceback": [
      "\u001b[0;31m---------------------------------------------------------------------------\u001b[0m",
      "\u001b[0;31mNameError\u001b[0m                                 Traceback (most recent call last)",
      "\u001b[0;32m<ipython-input-17-1659ba783733>\u001b[0m in \u001b[0;36m<module>\u001b[0;34m()\u001b[0m\n\u001b[0;32m----> 1\u001b[0;31m \u001b[0mprint\u001b[0m\u001b[0;34m(\u001b[0m\u001b[0mA_count\u001b[0m\u001b[0;34m(\u001b[0m\u001b[0mmy_dna\u001b[0m\u001b[0;34m)\u001b[0m\u001b[0;34m)\u001b[0m\u001b[0;34m\u001b[0m\u001b[0m\n\u001b[0m",
      "\u001b[0;31mNameError\u001b[0m: name 'A_count' is not defined"
     ]
    }
   ],
   "source": [
    "print(A_count(my_dna))"
   ]
  },
  {
   "cell_type": "code",
   "execution_count": 21,
   "metadata": {
    "collapsed": false
   },
   "outputs": [
    {
     "name": "stdout",
     "output_type": "stream",
     "text": [
      "0.6774193548387096\n",
      "0.6774193548387096\n",
      "0.0\n"
     ]
    }
   ],
   "source": [
    "my_AT_content = get_at_content(\"ATTTAAAACATATTAGGCCGCGCGAAAATTT\")\n",
    "print(my_AT_content)\n",
    "print(get_at_content(\"ATTTAAAACATATTAGGCCGCGCGAAAATTT\"))\n",
    "print(get_at_content(\"atttaaaacatattaggccgcgcgaaaattt\"))"
   ]
  },
  {
   "cell_type": "code",
   "execution_count": 36,
   "metadata": {
    "collapsed": false
   },
   "outputs": [
    {
     "name": "stdout",
     "output_type": "stream",
     "text": [
      "Help on built-in function round in module builtins:\n",
      "\n",
      "round(...)\n",
      "    round(number[, ndigits]) -> number\n",
      "    \n",
      "    Round a number to a given precision in decimal digits (default 0 digits).\n",
      "    This returns an int when called with one argument, otherwise the\n",
      "    same type as the number. ndigits may be negative.\n",
      "\n"
     ]
    }
   ],
   "source": [
    "help(round)"
   ]
  },
  {
   "cell_type": "code",
   "execution_count": 38,
   "metadata": {
    "collapsed": false
   },
   "outputs": [
    {
     "name": "stdout",
     "output_type": "stream",
     "text": [
      "The \"return\" statement\n",
      "**********************\n",
      "\n",
      "   return_stmt ::= \"return\" [expression_list]\n",
      "\n",
      "\"return\" may only occur syntactically nested in a function definition,\n",
      "not within a nested class definition.\n",
      "\n",
      "If an expression list is present, it is evaluated, else \"None\" is\n",
      "substituted.\n",
      "\n",
      "\"return\" leaves the current function call with the expression list (or\n",
      "\"None\") as return value.\n",
      "\n",
      "When \"return\" passes control out of a \"try\" statement with a \"finally\"\n",
      "clause, that \"finally\" clause is executed before really leaving the\n",
      "function.\n",
      "\n",
      "In a generator function, the \"return\" statement indicates that the\n",
      "generator is done and will cause \"StopIteration\" to be raised. The\n",
      "returned value (if any) is used as an argument to construct\n",
      "\"StopIteration\" and becomes the \"StopIteration.value\" attribute.\n",
      "\n",
      "Related help topics: FUNCTIONS\n",
      "\n"
     ]
    }
   ],
   "source": [
    "help(\"return\")"
   ]
  },
  {
   "cell_type": "code",
   "execution_count": 41,
   "metadata": {
    "collapsed": false
   },
   "outputs": [
    {
     "name": "stdout",
     "output_type": "stream",
     "text": [
      "0.677\n",
      "0.677\n",
      "0.677\n"
     ]
    }
   ],
   "source": [
    "def get_at_content (dna):\n",
    "    total_length = len(dna)\n",
    "    A_count = dna.upper().count('A')\n",
    "    T_count = dna.upper().count('T')\n",
    "    AT_content = (A_count + T_count) / total_length\n",
    "    return round(AT_content, 3)\n",
    "#why can \"return\" statement be followed by \"round\" function without using parenthesis \"()\"???\n",
    "\n",
    "my_AT_content = get_at_content(\"ATTTAAAACATATTAGGCCGCGCGAAAATTT\")\n",
    "print(my_AT_content)\n",
    "print(get_at_content(\"ATTTAAAACATATTAGGCCGCGCGAAAATTT\"))\n",
    "print(get_at_content(\"atttaaaacatattaggccgcgcgaaaattt\"))"
   ]
  },
  {
   "cell_type": "code",
   "execution_count": 42,
   "metadata": {
    "collapsed": false
   },
   "outputs": [
    {
     "name": "stdout",
     "output_type": "stream",
     "text": [
      "0.6\n",
      "0.57\n",
      "0.566\n",
      "0.57\n"
     ]
    }
   ],
   "source": [
    "def get_at_content (dna, sig_figs):\n",
    "    total_length = len(dna)\n",
    "    A_count = dna.upper().count('A')\n",
    "    T_count = dna.upper().count('T')\n",
    "    AT_content = (A_count + T_count) / total_length\n",
    "    return round(AT_content, sig_figs)\n",
    "\n",
    "test_DNA = \"ATTTTGGGCGCTTTAGACCAGGAAAAGGGGACATATTTTAHACAGAGGGGAAA\"\n",
    "print(get_at_content(test_DNA, 1))\n",
    "print(get_at_content(test_DNA, 2))\n",
    "print(get_at_content(test_DNA, 3))\n",
    "print(get_at_content(test_DNA.lower(), 2))"
   ]
  },
  {
   "cell_type": "code",
   "execution_count": 44,
   "metadata": {
    "collapsed": false
   },
   "outputs": [
    {
     "name": "stdout",
     "output_type": "stream",
     "text": [
      "0.6\n",
      "0.57\n",
      "0.566\n",
      "0.566\n"
     ]
    }
   ],
   "source": [
    "def get_at_content (dna, sig_figs):\n",
    "    total_length = len(dna)\n",
    "    A_count = dna.upper().count('A')\n",
    "    T_count = dna.upper().count('T')\n",
    "    AT_content = (A_count + T_count) / total_length\n",
    "    return round(AT_content, sig_figs)\n",
    "\n",
    "test_DNA = \"ATTTTGGGCGCTTTAGACCAGGAAAAGGGGACATATTTTAGACAGAGGGGAAA\"\n",
    "test_DNA2 = \"attttgggcgctttagaccaggaaaaggggacatattttagacagaggggaaa\"\n",
    "print(get_at_content(test_DNA, 1))\n",
    "print(get_at_content(test_DNA, 2))\n",
    "print(get_at_content(test_DNA, 3))\n",
    "print(get_at_content(test_DNA2, 3))"
   ]
  },
  {
   "cell_type": "code",
   "execution_count": 45,
   "metadata": {
    "collapsed": true
   },
   "outputs": [],
   "source": [
    "#what is the abreviation of \"sig_figs\"?\n",
    "#is that correct when I say\".upper\" allows lower string to be upper string and doesn't matter if the original data have been formated in upper string?"
   ]
  },
  {
   "cell_type": "code",
   "execution_count": 46,
   "metadata": {
    "collapsed": true
   },
   "outputs": [],
   "source": [
    "def get_number():\n",
    "    return 42"
   ]
  },
  {
   "cell_type": "code",
   "execution_count": 49,
   "metadata": {
    "collapsed": false
   },
   "outputs": [
    {
     "data": {
      "text/plain": [
       "42"
      ]
     },
     "execution_count": 49,
     "metadata": {},
     "output_type": "execute_result"
    }
   ],
   "source": [
    "get_number()"
   ]
  },
  {
   "cell_type": "code",
   "execution_count": 66,
   "metadata": {
    "collapsed": false
   },
   "outputs": [
    {
     "name": "stdout",
     "output_type": "stream",
     "text": [
      "0.57\n"
     ]
    }
   ],
   "source": [
    "def get_at_content2():\n",
    "    dna = \"ATTTTGGGCGCTTTAGACCAGGAAAAGGGGACATATTTTAHACAGAGGGGAAA\"\n",
    "    total_length = len(dna)\n",
    "    A_count = dna.upper().count('A')\n",
    "    T_count = dna.upper().count('T')\n",
    "    AT_content = (A_count + T_count) / total_length\n",
    "    return round(AT_content, 2)\n",
    "\n",
    "print(get_at_content2())"
   ]
  },
  {
   "cell_type": "code",
   "execution_count": 70,
   "metadata": {
    "collapsed": false
   },
   "outputs": [
    {
     "name": "stdout",
     "output_type": "stream",
     "text": [
      "0.57\n"
     ]
    }
   ],
   "source": [
    "def get_at_content2():\n",
    "    total_length = len(dna)\n",
    "    A_count = dna.upper().count('A')\n",
    "    T_count = dna.upper().count('T')\n",
    "    AT_content = (A_count + T_count) / total_length\n",
    "    return round(AT_content, 2)\n",
    "\n",
    "onny = \"ATTTTGGGCGCTTTAGACCAGGAAAAGGGGACATATTTTAHACAGAGGGGAAA\" #this variable and value are arbitrary.\n",
    "print(get_at_content2()) #remember!! you must write the whole function without mention the name of variable since you have defined above."
   ]
  },
  {
   "cell_type": "code",
   "execution_count": 99,
   "metadata": {
    "collapsed": false
   },
   "outputs": [],
   "source": [
    "def get_at_content2():\n",
    "    total_length = len(dna)\n",
    "    A_count = dna.upper().count('A')\n",
    "    T_count = dna.upper().count('T')\n",
    "    AT_content = (A_count + T_count) / total_length\n",
    "    print (str(round(AT_content, 2)))\n",
    "#if you use print, instead of return, you might not need to call print function again later"
   ]
  },
  {
   "cell_type": "code",
   "execution_count": 98,
   "metadata": {
    "collapsed": false
   },
   "outputs": [
    {
     "name": "stdout",
     "output_type": "stream",
     "text": [
      "0.57\n"
     ]
    }
   ],
   "source": [
    "dna2 = \"atatggatagtaggatagggataggagatccccccggagaccttaatatatatatatatat\"\n",
    "get_at_content2()\n",
    "#what does actually happen here since there is no change although I change the sequence?"
   ]
  },
  {
   "cell_type": "code",
   "execution_count": 76,
   "metadata": {
    "collapsed": false
   },
   "outputs": [
    {
     "name": "stdout",
     "output_type": "stream",
     "text": [
      "0.57\n"
     ]
    }
   ],
   "source": [
    "get_at_content2()"
   ]
  },
  {
   "cell_type": "code",
   "execution_count": 77,
   "metadata": {
    "collapsed": false
   },
   "outputs": [
    {
     "name": "stdout",
     "output_type": "stream",
     "text": [
      "0.57\n",
      "None\n"
     ]
    }
   ],
   "source": [
    "print(get_at_content2()) #what happens as the result says \"none\"??"
   ]
  },
  {
   "cell_type": "code",
   "execution_count": 125,
   "metadata": {
    "collapsed": true
   },
   "outputs": [],
   "source": [
    "def get_at_content(dna, sig_figs=2):\n",
    "    total_length = len(dna)\n",
    "    A_count = dna.upper().count('A')\n",
    "    T_count = dna.upper().count('T')\n",
    "    AT_content = (A_count + T_count) / total_length\n",
    "    return round(AT_content, sig_figs)"
   ]
  },
  {
   "cell_type": "code",
   "execution_count": 126,
   "metadata": {
    "collapsed": false
   },
   "outputs": [
    {
     "ename": "AssertionError",
     "evalue": "",
     "output_type": "error",
     "traceback": [
      "\u001b[0;31m---------------------------------------------------------------------------\u001b[0m",
      "\u001b[0;31mAssertionError\u001b[0m                            Traceback (most recent call last)",
      "\u001b[0;32m<ipython-input-126-efd3b3ea42ab>\u001b[0m in \u001b[0;36m<module>\u001b[0;34m()\u001b[0m\n\u001b[1;32m      1\u001b[0m \u001b[0mdna\u001b[0m \u001b[0;34m=\u001b[0m \u001b[0;34m\"ATATNNNNNNNN\"\u001b[0m\u001b[0;34m\u001b[0m\u001b[0m\n\u001b[0;32m----> 2\u001b[0;31m \u001b[0;32massert\u001b[0m \u001b[0mget_at_content\u001b[0m\u001b[0;34m(\u001b[0m\u001b[0mdna\u001b[0m\u001b[0;34m,\u001b[0m \u001b[0;36m5\u001b[0m\u001b[0;34m)\u001b[0m \u001b[0;34m==\u001b[0m \u001b[0;36m1\u001b[0m\u001b[0;34m\u001b[0m\u001b[0m\n\u001b[0m",
      "\u001b[0;31mAssertionError\u001b[0m: "
     ]
    }
   ],
   "source": [
    "dna = \"ATATNNNNNNNN\"\n",
    "assert get_at_content(dna, 5) == 1"
   ]
  },
  {
   "cell_type": "code",
   "execution_count": 127,
   "metadata": {
    "collapsed": true
   },
   "outputs": [],
   "source": [
    "def get_at_content(dna, sig_figs=2):\n",
    "    dna = dna.replace(\"N\", \"\")\n",
    "    total_length = len(dna)\n",
    "    A_count = dna.upper().count('A')\n",
    "    T_count = dna.upper().count('T')\n",
    "    AT_content = (A_count + T_count) / total_length\n",
    "    return round(AT_content, sig_figs)"
   ]
  },
  {
   "cell_type": "code",
   "execution_count": 129,
   "metadata": {
    "collapsed": true
   },
   "outputs": [],
   "source": [
    "dna = \"ATGCNNNNNNNN\"\n",
    "assert get_at_content(dna, 5) == 0.5"
   ]
  },
  {
   "cell_type": "code",
   "execution_count": 131,
   "metadata": {
    "collapsed": false
   },
   "outputs": [],
   "source": [
    "def get_protein_percentage(protein, aa):\n",
    "    aa_count = protein.count(aa)\n",
    "    length = len(protein)\n",
    "    percentage = aa_count*100/length\n",
    "    return percentage"
   ]
  },
  {
   "cell_type": "code",
   "execution_count": 132,
   "metadata": {
    "collapsed": false
   },
   "outputs": [
    {
     "ename": "AssertionError",
     "evalue": "",
     "output_type": "error",
     "traceback": [
      "\u001b[0;31m---------------------------------------------------------------------------\u001b[0m",
      "\u001b[0;31mAssertionError\u001b[0m                            Traceback (most recent call last)",
      "\u001b[0;32m<ipython-input-132-d77ba1acf102>\u001b[0m in \u001b[0;36m<module>\u001b[0;34m()\u001b[0m\n\u001b[1;32m      1\u001b[0m \u001b[0;32massert\u001b[0m \u001b[0mget_protein_percentage\u001b[0m \u001b[0;34m(\u001b[0m\u001b[0;34m\"MSRSLLLRFLLFLLLLPPLP\"\u001b[0m\u001b[0;34m,\u001b[0m \u001b[0;34m\"M\"\u001b[0m\u001b[0;34m)\u001b[0m \u001b[0;34m==\u001b[0m \u001b[0;36m5\u001b[0m\u001b[0;34m\u001b[0m\u001b[0m\n\u001b[0;32m----> 2\u001b[0;31m \u001b[0;32massert\u001b[0m \u001b[0mget_protein_percentage\u001b[0m \u001b[0;34m(\u001b[0m\u001b[0;34m\"MSRSLLLRFLLFLLLLPPLP\"\u001b[0m\u001b[0;34m,\u001b[0m \u001b[0;34m\"r\"\u001b[0m\u001b[0;34m)\u001b[0m \u001b[0;34m==\u001b[0m \u001b[0;36m10\u001b[0m\u001b[0;34m\u001b[0m\u001b[0m\n\u001b[0m\u001b[1;32m      3\u001b[0m \u001b[0;32massert\u001b[0m \u001b[0mget_protein_percentage\u001b[0m \u001b[0;34m(\u001b[0m\u001b[0;34m\"mrsslllrfllfllllpplp\"\u001b[0m\u001b[0;34m,\u001b[0m \u001b[0;34m\"L\"\u001b[0m\u001b[0;34m)\u001b[0m \u001b[0;34m==\u001b[0m \u001b[0;36m50\u001b[0m\u001b[0;34m\u001b[0m\u001b[0m\n\u001b[1;32m      4\u001b[0m \u001b[0;32massert\u001b[0m \u001b[0mget_protein_percentage\u001b[0m \u001b[0;34m(\u001b[0m\u001b[0;34m\"MSRSLLLRFLLFLLLLPPLP\"\u001b[0m\u001b[0;34m,\u001b[0m \u001b[0;34m\"Y\"\u001b[0m\u001b[0;34m)\u001b[0m \u001b[0;34m==\u001b[0m \u001b[0;36m0\u001b[0m\u001b[0;34m\u001b[0m\u001b[0m\n",
      "\u001b[0;31mAssertionError\u001b[0m: "
     ]
    }
   ],
   "source": [
    "assert get_protein_percentage (\"MSRSLLLRFLLFLLLLPPLP\", \"M\") == 5\n",
    "assert get_protein_percentage (\"MSRSLLLRFLLFLLLLPPLP\", \"r\") == 10\n",
    "assert get_protein_percentage (\"mrsslllrfllfllllpplp\", \"L\") == 50\n",
    "assert get_protein_percentage (\"MSRSLLLRFLLFLLLLPPLP\", \"Y\") == 0"
   ]
  },
  {
   "cell_type": "code",
   "execution_count": 133,
   "metadata": {
    "collapsed": true
   },
   "outputs": [],
   "source": [
    "assert get_protein_percentage (\"MSRSLLLRFLLFLLLLPPLP\", \"M\") == 5"
   ]
  },
  {
   "cell_type": "code",
   "execution_count": 134,
   "metadata": {
    "collapsed": false
   },
   "outputs": [
    {
     "ename": "AssertionError",
     "evalue": "",
     "output_type": "error",
     "traceback": [
      "\u001b[0;31m---------------------------------------------------------------------------\u001b[0m",
      "\u001b[0;31mAssertionError\u001b[0m                            Traceback (most recent call last)",
      "\u001b[0;32m<ipython-input-134-6188856f60b0>\u001b[0m in \u001b[0;36m<module>\u001b[0;34m()\u001b[0m\n\u001b[0;32m----> 1\u001b[0;31m \u001b[0;32massert\u001b[0m \u001b[0mget_protein_percentage\u001b[0m \u001b[0;34m(\u001b[0m\u001b[0;34m\"MSRSLLLRFLLFLLLLPPLP\"\u001b[0m\u001b[0;34m,\u001b[0m \u001b[0;34m\"r\"\u001b[0m\u001b[0;34m)\u001b[0m \u001b[0;34m==\u001b[0m \u001b[0;36m10\u001b[0m\u001b[0;34m\u001b[0m\u001b[0m\n\u001b[0m",
      "\u001b[0;31mAssertionError\u001b[0m: "
     ]
    }
   ],
   "source": [
    "assert get_protein_percentage (\"MSRSLLLRFLLFLLLLPPLP\", \"r\") == 10"
   ]
  },
  {
   "cell_type": "code",
   "execution_count": 135,
   "metadata": {
    "collapsed": false
   },
   "outputs": [
    {
     "ename": "AssertionError",
     "evalue": "",
     "output_type": "error",
     "traceback": [
      "\u001b[0;31m---------------------------------------------------------------------------\u001b[0m",
      "\u001b[0;31mAssertionError\u001b[0m                            Traceback (most recent call last)",
      "\u001b[0;32m<ipython-input-135-3b645b3becde>\u001b[0m in \u001b[0;36m<module>\u001b[0;34m()\u001b[0m\n\u001b[0;32m----> 1\u001b[0;31m \u001b[0;32massert\u001b[0m \u001b[0mget_protein_percentage\u001b[0m \u001b[0;34m(\u001b[0m\u001b[0;34m\"mrsslllrfllfllllpplp\"\u001b[0m\u001b[0;34m,\u001b[0m \u001b[0;34m\"L\"\u001b[0m\u001b[0;34m)\u001b[0m \u001b[0;34m==\u001b[0m \u001b[0;36m50\u001b[0m\u001b[0;34m\u001b[0m\u001b[0m\n\u001b[0m",
      "\u001b[0;31mAssertionError\u001b[0m: "
     ]
    }
   ],
   "source": [
    "assert get_protein_percentage (\"mrsslllrfllfllllpplp\", \"L\") == 50"
   ]
  },
  {
   "cell_type": "code",
   "execution_count": 136,
   "metadata": {
    "collapsed": true
   },
   "outputs": [],
   "source": [
    "assert get_protein_percentage (\"MSRSLLLRFLLFLLLLPPLP\", \"Y\") == 0"
   ]
  },
  {
   "cell_type": "code",
   "execution_count": 137,
   "metadata": {
    "collapsed": true
   },
   "outputs": [],
   "source": [
    "def get_protein_percentage(protein, aa):\n",
    "    protein = protein.upper()\n",
    "    aa = aa.upper()\n",
    "    aa_count = protein.count(aa)\n",
    "    length = len(protein)\n",
    "    percentage = aa_count*100/length\n",
    "    return percentage"
   ]
  },
  {
   "cell_type": "code",
   "execution_count": 138,
   "metadata": {
    "collapsed": true
   },
   "outputs": [],
   "source": [
    "assert get_protein_percentage (\"MSRSLLLRFLLFLLLLPPLP\", \"M\") == 5\n",
    "assert get_protein_percentage (\"MSRSLLLRFLLFLLLLPPLP\", \"r\") == 10\n",
    "assert get_protein_percentage (\"mrsslllrfllfllllpplp\", \"L\") == 50\n",
    "assert get_protein_percentage (\"MSRSLLLRFLLFLLLLPPLP\", \"Y\") == 0"
   ]
  },
  {
   "cell_type": "markdown",
   "metadata": {},
   "source": [
    "# CHAPTER 5, EXERCISE 2"
   ]
  },
  {
   "cell_type": "code",
   "execution_count": 140,
   "metadata": {
    "collapsed": false
   },
   "outputs": [
    {
     "name": "stdout",
     "output_type": "stream",
     "text": [
      "counting number of M\n",
      "running total is 1\n",
      "counting number of L\n",
      "running total is 11\n",
      "counting number of F\n",
      "running total is 13\n",
      "final presentage is 65.0\n"
     ]
    }
   ],
   "source": [
    "protein = \"MSRSLLLRFLLFLLLLPPLP\"\n",
    "aa_list = ['M', 'L', 'F']\n",
    "total = 0\n",
    "for aa in aa_list:\n",
    "    print(\"counting number of \" + aa)\n",
    "    aa = aa.upper()\n",
    "    aa_count = protein.count(aa)\n",
    "    total = total + aa_count\n",
    "    print(\"running total is \" + str(total))\n",
    "    \n",
    "percentage = total*100/len(protein)\n",
    "print(\"final presentage is \" + str(percentage))"
   ]
  },
  {
   "cell_type": "markdown",
   "metadata": {},
   "source": [
    "# HELP ME, I DON'T UNDERSTAND WHY WE HAVE TO MAKE A LOOP FOLLOWED BY A FUNCTION.. "
   ]
  },
  {
   "cell_type": "code",
   "execution_count": 142,
   "metadata": {
    "collapsed": true
   },
   "outputs": [],
   "source": [
    "def get_aa_percentage (protein, aa_list = ['A', 'I', 'L', 'M', 'F', 'W', 'Y', 'V']):\n",
    "    protein = protein.upper()\n",
    "    protein_length = len(protein)\n",
    "    total = 0\n",
    "    for aa in aa_list:\n",
    "        aa = aa.upper()\n",
    "        aa_count = protein.count(aa)\n",
    "        total = total + aa_count\n",
    "    percentage = total * 100 / protein_length\n",
    "    return percentage\n"
   ]
  },
  {
   "cell_type": "code",
   "execution_count": 143,
   "metadata": {
    "collapsed": true
   },
   "outputs": [],
   "source": [
    "assert get_aa_percentage (\"MSRSLLLRFLLFLLLLPPLP\", ['M']) == 5"
   ]
  },
  {
   "cell_type": "code",
   "execution_count": 144,
   "metadata": {
    "collapsed": true
   },
   "outputs": [],
   "source": [
    "assert get_aa_percentage (\"MSRSLLLRFLLFLLLLPPLP\", [\"M\"]) == 5\n",
    "assert get_aa_percentage (\"MSRSLLLRFLLFLLLLPPLP\", ['M', 'L']) == 55\n",
    "assert get_aa_percentage (\"MSRSLLLRFLLFLLLLPPLP\", ['F', 'S', 'L']) == 70\n",
    "assert get_aa_percentage (\"MSRSLLLRFLLFLLLLPPLP\") == 65"
   ]
  },
  {
   "cell_type": "code",
   "execution_count": null,
   "metadata": {
    "collapsed": true
   },
   "outputs": [],
   "source": []
  }
 ],
 "metadata": {
  "anaconda-cloud": {},
  "kernelspec": {
   "display_name": "Python [default]",
   "language": "python",
   "name": "python3"
  },
  "language_info": {
   "codemirror_mode": {
    "name": "ipython",
    "version": 3
   },
   "file_extension": ".py",
   "mimetype": "text/x-python",
   "name": "python",
   "nbconvert_exporter": "python",
   "pygments_lexer": "ipython3",
   "version": "3.5.2"
  }
 },
 "nbformat": 4,
 "nbformat_minor": 2
}

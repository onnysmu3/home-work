{
 "cells": [
  {
   "cell_type": "markdown",
   "metadata": {
    "collapsed": true
   },
   "source": [
    "# ![badge1](/home/eeb177-student/Downloads/Screenshot from 2017-02-20 19-59-43.png)"
   ]
  },
  {
   "cell_type": "markdown",
   "metadata": {},
   "source": [
    "# PLEASE REMIND ME, HOW TO UPLOAD AN IMAGE IN IPYTHON FILE??"
   ]
  },
  {
   "cell_type": "markdown",
   "metadata": {
    "collapsed": true
   },
   "source": [
    "https://www.codecademy.com/courses/introduction-to-python-6WeG3/0/3?curriculum_id=4f89dab3d788890003000096"
   ]
  },
  {
   "cell_type": "markdown",
   "metadata": {
    "collapsed": true
   },
   "source": [
    "<img src=https://www.codecademy.com/courses/introduction-to-python-6WeG3/0/3?curriculum_id=4f89dab3d788890003000096>"
   ]
  },
  {
   "cell_type": "code",
   "execution_count": 1,
   "metadata": {
    "collapsed": false,
    "scrolled": true
   },
   "outputs": [
    {
     "name": "stdout",
     "output_type": "stream",
     "text": [
      "count is 0 for AAA\n",
      "count is 1 for AAT\n",
      "count is 0 for AAG\n",
      "count is 0 for AAC\n",
      "count is 0 for ATA\n",
      "count is 0 for ATT\n",
      "count is 1 for ATG\n",
      "count is 2 for ATC\n",
      "count is 0 for AGA\n",
      "count is 0 for AGT\n",
      "count is 0 for AGG\n",
      "count is 0 for AGC\n",
      "count is 0 for ACA\n",
      "count is 0 for ACT\n",
      "count is 1 for ACG\n",
      "count is 0 for ACC\n",
      "count is 0 for TAA\n",
      "count is 0 for TAT\n",
      "count is 0 for TAG\n",
      "count is 1 for TAC\n",
      "count is 0 for TTA\n",
      "count is 0 for TTT\n",
      "count is 0 for TTG\n",
      "count is 0 for TTC\n",
      "count is 2 for TGA\n",
      "count is 0 for TGT\n",
      "count is 0 for TGG\n",
      "count is 0 for TGC\n",
      "count is 0 for TCA\n",
      "count is 0 for TCT\n",
      "count is 2 for TCG\n",
      "count is 0 for TCC\n",
      "count is 0 for GAA\n",
      "count is 2 for GAT\n",
      "count is 0 for GAG\n",
      "count is 0 for GAC\n",
      "count is 1 for GTA\n",
      "count is 0 for GTT\n",
      "count is 0 for GTG\n",
      "count is 0 for GTC\n",
      "count is 0 for GGA\n",
      "count is 0 for GGT\n",
      "count is 0 for GGG\n",
      "count is 0 for GGC\n",
      "count is 0 for GCA\n",
      "count is 1 for GCT\n",
      "count is 0 for GCG\n",
      "count is 0 for GCC\n",
      "count is 0 for CAA\n",
      "count is 0 for CAT\n",
      "count is 0 for CAG\n",
      "count is 0 for CAC\n",
      "count is 0 for CTA\n",
      "count is 0 for CTT\n",
      "count is 1 for CTG\n",
      "count is 0 for CTC\n",
      "count is 1 for CGA\n",
      "count is 1 for CGT\n",
      "count is 0 for CGG\n",
      "count is 1 for CGC\n",
      "count is 0 for CCA\n",
      "count is 0 for CCT\n",
      "count is 0 for CCG\n",
      "count is 0 for CCC\n",
      "[0, 1, 0, 0, 0, 0, 1, 2, 0, 0, 0, 0, 0, 0, 1, 0, 0, 0, 0, 1, 0, 0, 0, 0, 2, 0, 0, 0, 0, 0, 2, 0, 0, 2, 0, 0, 1, 0, 0, 0, 0, 0, 0, 0, 0, 1, 0, 0, 0, 0, 0, 0, 0, 0, 1, 0, 1, 1, 0, 1, 0, 0, 0, 0]\n"
     ]
    }
   ],
   "source": [
    "dna = \"AATGATCGATCGTACGCTGA\"\n",
    "all_counts = []\n",
    "for base1 in ['A', 'T', 'G', 'C']:\n",
    "    for base2 in ['A', 'T', 'G', 'C']:\n",
    "        for base3 in ['A', 'T', 'G', 'C']:\n",
    "            trinucleotide = base1 + base2 + base3\n",
    "            count = dna.count(trinucleotide)\n",
    "            print(\"count is \" + str(count) + \" for \" + trinucleotide)\n",
    "            all_counts.append(count)\n",
    "print(all_counts)"
   ]
  },
  {
   "cell_type": "code",
   "execution_count": 2,
   "metadata": {
    "collapsed": false
   },
   "outputs": [
    {
     "name": "stdout",
     "output_type": "stream",
     "text": [
      "[0, 1, 0, 0, 0, 0, 1, 2, 0, 0, 0, 0, 0, 0, 1, 0, 0, 0, 0, 1, 0, 0, 0, 0, 2, 0, 0, 0, 0, 0, 2, 0, 0, 2, 0, 0, 1, 0, 0, 0, 0, 0, 0, 0, 0, 1, 0, 0, 0, 0, 0, 0, 0, 0, 1, 0, 1, 1, 0, 1, 0, 0, 0, 0]\n",
      "['AAA', 'AAT', 'AAG', 'AAC', 'ATA', 'ATT', 'ATG', 'ATC', 'AGA', 'AGT', 'AGG', 'AGC', 'ACA', 'ACT', 'ACG', 'ACC', 'TAA', 'TAT', 'TAG', 'TAC', 'TTA', 'TTT', 'TTG', 'TTC', 'TGA', 'TGT', 'TGG', 'TGC', 'TCA', 'TCT', 'TCG', 'TCC', 'GAA', 'GAT', 'GAG', 'GAC', 'GTA', 'GTT', 'GTG', 'GTC', 'GGA', 'GGT', 'GGG', 'GGC', 'GCA', 'GCT', 'GCG', 'GCC', 'CAA', 'CAT', 'CAG', 'CAC', 'CTA', 'CTT', 'CTG', 'CTC', 'CGA', 'CGT', 'CGG', 'CGC', 'CCA', 'CCT', 'CCG', 'CCC']\n"
     ]
    }
   ],
   "source": [
    "dna = \"AATGATCGATCGTACGCTGA\"\n",
    "all_trinucleotides = []\n",
    "all_counts = []\n",
    "for base1 in ['A', 'T', 'G', 'C']:\n",
    "    for base2 in ['A', 'T', 'G', 'C']:\n",
    "        for base3 in ['A', 'T', 'G', 'C']:\n",
    "            trinucleotide = base1 + base2 + base3\n",
    "            count = dna.count(trinucleotide)\n",
    "            all_trinucleotides.append(trinucleotide)\n",
    "            all_counts.append(count)\n",
    "print(all_counts)\n",
    "print(all_trinucleotides)"
   ]
  },
  {
   "cell_type": "code",
   "execution_count": null,
   "metadata": {
    "collapsed": true
   },
   "outputs": [],
   "source": []
  }
 ],
 "metadata": {
  "anaconda-cloud": {},
  "kernelspec": {
   "display_name": "Python [default]",
   "language": "python",
   "name": "python3"
  },
  "language_info": {
   "codemirror_mode": {
    "name": "ipython",
    "version": 3
   },
   "file_extension": ".py",
   "mimetype": "text/x-python",
   "name": "python",
   "nbconvert_exporter": "python",
   "pygments_lexer": "ipython3",
   "version": "3.5.2"
  }
 },
 "nbformat": 4,
 "nbformat_minor": 2
}
